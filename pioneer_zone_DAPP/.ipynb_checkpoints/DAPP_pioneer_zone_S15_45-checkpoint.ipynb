{
 "cells": [
  {
   "cell_type": "code",
   "execution_count": 318,
   "id": "7ee49c4a",
   "metadata": {},
   "outputs": [],
   "source": [
    "library(dplyr)\n",
    "library(Hmisc)   # for wtd.quantile if needed\n",
    "library(ggplot2)\n",
    "library(ggh4x) # for facet_grid2() and strip_themed()\n",
    "library(scales) # for percent()\n",
    "library(ggtext)    # for strip_themed (theme strip customization)\n",
    "library(grid)      # for unit()\n",
    "library(tidyr) \n",
    "library(reshape2)\n",
    "library(data.table)"
   ]
  },
  {
   "cell_type": "markdown",
   "id": "d500b874",
   "metadata": {},
   "source": [
    "### Timing of Policy Tipping Points\n",
    "\n",
    "The functional lifespan of a marsh adaptation measure ends when critical thresholds are crossed, requiring new interventions. This notebook uses exploratory modeling to estimate the timing of such tipping points under uncertainty. For each simulated future, the estimated year of critical conditions is recorded. The 5th percentile marks the earliest likely occurrence, offering a conservative estimate for proactive planning. The median indicates the most typical timing. Together, these values define a time window for potential policy failure, while the share of critical outcomes helps assess the reliability of this timing."
   ]
  },
  {
   "cell_type": "markdown",
   "id": "9eff4e9f",
   "metadata": {},
   "source": [
    "#### 1. Load cleaned datasets for East-Frisian focus area S15 | RCP8.5"
   ]
  },
  {
   "cell_type": "code",
   "execution_count": 319,
   "id": "496f99a0",
   "metadata": {
    "scrolled": true
   },
   "outputs": [],
   "source": [
    "data_s15_85 <- read.table(\"../model_output_M/model_output_S15_clean/out_S15_85.txt\", sep = \"\\t\", header = TRUE)\n",
    "slr_data <- read.table('../figures/data/figure_3_data/regional_slr_ar5.txt', sep = '\\t', header = TRUE)"
   ]
  },
  {
   "cell_type": "markdown",
   "id": "10d01382",
   "metadata": {},
   "source": [
    "#### 2. Create Policy Category Labels corresponding to Policy Levers $\\text{L}$\n",
    "Within the exploratory marsh accretion model, we assessed the impact of two management strategies on accretion dynamics: sand nourishment and vegetation management. Each strategy corresponds to a parameter in the dynamic accretion equation—sand nourishment influences the suspended sediment concentration $C$, while vegetation management affects the sediment trapping efficiency, expressed as the fraction of sediments depositing $f_d$. Each policy lever (e.g., nourishment frequency or vegetation intervention) is represented by a specific parameter value. To analyze potential policy lifespans, each simulated future state is labeled according to the applied combination of policy levers based on these parameter values.\n"
   ]
  },
  {
   "cell_type": "code",
   "execution_count": 320,
   "id": "37578be1",
   "metadata": {},
   "outputs": [],
   "source": [
    "policy_s15_85 <- data_s15_85  %>%\n",
    "  filter(z_init == 0.7) %>%\n",
    "  mutate(policy_category = case_when(\n",
    "    c_flood_nourishment == 0.0 & fd == 0.4 ~ \"No nourishment | Conservation\",\n",
    "    c_flood_nourishment %in% c(0.3, 0.5) & nourishment_frequency == 10 & fd == 0.4 ~ \"Nourishment (10 years) | Conservation\",\n",
    "    c_flood_nourishment %in% c(0.3, 0.5) & nourishment_frequency == 5 & fd == 0.4 ~ \"Nourishment (5 years) | Conservation\",\n",
    "    c_flood_nourishment %in% c(0.3, 0.5) & nourishment_frequency == 1 & fd == 0.4 ~ \"Nourishment (annual) | Conservation\",\n",
    "    c_flood_nourishment == 0.0 & fd == 0.6 ~ \"No Nourishment | Marsh Restoration\",\n",
    "    c_flood_nourishment %in% c(0.3, 0.5) & nourishment_frequency == 10 & fd == 0.6 ~ \"Nourishment (10 years) | Marsh Restoration\",\n",
    "    c_flood_nourishment %in% c(0.3, 0.5) & nourishment_frequency == 5 & fd == 0.6 ~ \"Nourishment (5 years) | Marsh Restoration\",\n",
    "    c_flood_nourishment %in% c(0.3, 0.5) & nourishment_frequency == 1 & fd == 0.6 ~ \"Nourishment (annual) | Marsh Restoration\",\n",
    "    TRUE ~ \"Unclassified\"\n",
    "  ))"
   ]
  },
  {
   "cell_type": "markdown",
   "id": "dd8b4074",
   "metadata": {},
   "source": [
    "#### 3. Policy Thresholds \n",
    "We defined vulnerability classes to indicate the likelihood of policy failure over time. Among them, the critical class (I) and the susceptible class (II) signal that a policy is approaching or has reached a policy tipping point. These classes are determined by the critical year—the point in time when sea level exceeds surface elevation.\n",
    "\n",
    "For each aggregated policy category, we first calculate the percentage of model runs assigned to classes I and II. Within this subset, we then estimate the 5th and 50th percentiles of the critical year distribution. These percentiles provide lower-bound and median estimates of policy thresholds under uncertain environmental conditions.\n",
    "\n",
    "\n",
    "``cy_early: 5 percentile of critical years per policy category``\n",
    "- Shortest potential policy lifespan/ earliest critical policy threshold \n",
    "- first occurence of critical conditions under a given policy across the distribution of scenarios. \n",
    "- Conservative estimate of when criticality may begin, lower bound for proative decision making\n",
    "\n",
    "\n",
    "``cy_central: 50 percentile of critical years per policy category``\n",
    "- measure of central tendency, highlighting the typical timing of critical conditions. \n",
    "\n",
    "``slr_mode``\n",
    "- most frequently occurring slr_select value (the mode) among all cases within a policy category where the estimated critical year is before 2120.\n",
    "\n",
    "``slr_mode_perc``\n",
    "- percentage of critical policies that share the slr_mode."
   ]
  },
  {
   "cell_type": "code",
   "execution_count": 321,
   "id": "6cdeaf4b",
   "metadata": {},
   "outputs": [],
   "source": [
    "policy_agg_s15_85 <- policy_s15_85 %>%\n",
    "  group_by(policy_category) %>%\n",
    "  summarise(\n",
    "    policy_count = n(),\n",
    "    critical_count = sum(est_crit_year < 2120, na.rm = TRUE),\n",
    "    percentage = round(critical_count * 100 / policy_count, 0),\n",
    "    cy_early = round(quantile(est_crit_year[est_crit_year < 2120], 0.05, na.rm = TRUE)),\n",
    "    cy_central = round(quantile(est_crit_year[est_crit_year < 2120], 0.5, na.rm = TRUE)),\n",
    "    slr_mode = {\n",
    "      tbl <- table(slr_select[est_crit_year < 2120])\n",
    "      as.integer(names(which.max(tbl)))\n",
    "    },\n",
    "    slr_mode_perc = {\n",
    "      tbl <- table(slr_select[est_crit_year < 2120])\n",
    "      round(100 * max(tbl) / sum(tbl), 0)\n",
    "    }\n",
    "  ) %>%\n",
    "  ungroup()\n"
   ]
  },
  {
   "cell_type": "markdown",
   "id": "3378c544",
   "metadata": {},
   "source": [
    "Ordering of policies by critical percentage."
   ]
  },
  {
   "cell_type": "code",
   "execution_count": 322,
   "id": "cad2b140",
   "metadata": {},
   "outputs": [],
   "source": [
    "policy_order <- c(\n",
    "  \"No nourishment | Conservation\",\n",
    "  \"Nourishment (10 years) | Conservation\",\n",
    "  \"Nourishment (5 years) | Conservation\",\n",
    "  \"No Nourishment | Marsh Restoration\",\n",
    "  \"Nourishment (10 years) | Marsh Restoration\",\n",
    "  \"Nourishment (5 years) | Marsh Restoration\",\n",
    "  \"Nourishment (annual) | Conservation\",\n",
    "  \"Nourishment (annual) | Marsh Restoration\"\n",
    ")\n",
    "\n",
    "policy_agg_s15_85 <- policy_agg_s15_85 %>%\n",
    "  mutate(order_col = match(policy_category, policy_order)) %>%\n",
    "  arrange(order_col, desc(percentage), desc(policy_count)) %>%\n",
    "  select(-order_col)"
   ]
  },
  {
   "cell_type": "code",
   "execution_count": 323,
   "id": "bbfd0cd1",
   "metadata": {
    "scrolled": true
   },
   "outputs": [
    {
     "data": {
      "text/html": [
       "<table class=\"dataframe\">\n",
       "<caption>A tibble: 8 × 8</caption>\n",
       "<thead>\n",
       "\t<tr><th scope=col>policy_category</th><th scope=col>policy_count</th><th scope=col>critical_count</th><th scope=col>percentage</th><th scope=col>cy_early</th><th scope=col>cy_central</th><th scope=col>slr_mode</th><th scope=col>slr_mode_perc</th></tr>\n",
       "\t<tr><th scope=col>&lt;chr&gt;</th><th scope=col>&lt;int&gt;</th><th scope=col>&lt;int&gt;</th><th scope=col>&lt;dbl&gt;</th><th scope=col>&lt;dbl&gt;</th><th scope=col>&lt;dbl&gt;</th><th scope=col>&lt;int&gt;</th><th scope=col>&lt;dbl&gt;</th></tr>\n",
       "</thead>\n",
       "<tbody>\n",
       "\t<tr><td>No nourishment | Conservation             </td><td> 54</td><td>39</td><td>72</td><td>2060</td><td>2083</td><td>3</td><td> 46</td></tr>\n",
       "\t<tr><td>Nourishment (10 years) | Conservation     </td><td>108</td><td>73</td><td>68</td><td>2064</td><td>2089</td><td>3</td><td> 49</td></tr>\n",
       "\t<tr><td>Nourishment (5 years) | Conservation      </td><td> 90</td><td>54</td><td>60</td><td>2066</td><td>2088</td><td>3</td><td> 56</td></tr>\n",
       "\t<tr><td>No Nourishment | Marsh Restoration        </td><td> 54</td><td>32</td><td>59</td><td>2063</td><td>2088</td><td>3</td><td> 56</td></tr>\n",
       "\t<tr><td>Nourishment (10 years) | Marsh Restoration</td><td>108</td><td>61</td><td>56</td><td>2067</td><td>2096</td><td>3</td><td> 59</td></tr>\n",
       "\t<tr><td>Nourishment (5 years) | Marsh Restoration </td><td> 90</td><td>45</td><td>50</td><td>2073</td><td>2094</td><td>3</td><td> 67</td></tr>\n",
       "\t<tr><td>Nourishment (annual) | Conservation       </td><td> 72</td><td>27</td><td>38</td><td>2086</td><td>2098</td><td>3</td><td> 89</td></tr>\n",
       "\t<tr><td>Nourishment (annual) | Marsh Restoration  </td><td> 72</td><td>24</td><td>33</td><td>2095</td><td>2102</td><td>3</td><td>100</td></tr>\n",
       "</tbody>\n",
       "</table>\n"
      ],
      "text/latex": [
       "A tibble: 8 × 8\n",
       "\\begin{tabular}{llllllll}\n",
       " policy\\_category & policy\\_count & critical\\_count & percentage & cy\\_early & cy\\_central & slr\\_mode & slr\\_mode\\_perc\\\\\n",
       " <chr> & <int> & <int> & <dbl> & <dbl> & <dbl> & <int> & <dbl>\\\\\n",
       "\\hline\n",
       "\t No nourishment \\textbar{} Conservation              &  54 & 39 & 72 & 2060 & 2083 & 3 &  46\\\\\n",
       "\t Nourishment (10 years) \\textbar{} Conservation      & 108 & 73 & 68 & 2064 & 2089 & 3 &  49\\\\\n",
       "\t Nourishment (5 years) \\textbar{} Conservation       &  90 & 54 & 60 & 2066 & 2088 & 3 &  56\\\\\n",
       "\t No Nourishment \\textbar{} Marsh Restoration         &  54 & 32 & 59 & 2063 & 2088 & 3 &  56\\\\\n",
       "\t Nourishment (10 years) \\textbar{} Marsh Restoration & 108 & 61 & 56 & 2067 & 2096 & 3 &  59\\\\\n",
       "\t Nourishment (5 years) \\textbar{} Marsh Restoration  &  90 & 45 & 50 & 2073 & 2094 & 3 &  67\\\\\n",
       "\t Nourishment (annual) \\textbar{} Conservation        &  72 & 27 & 38 & 2086 & 2098 & 3 &  89\\\\\n",
       "\t Nourishment (annual) \\textbar{} Marsh Restoration   &  72 & 24 & 33 & 2095 & 2102 & 3 & 100\\\\\n",
       "\\end{tabular}\n"
      ],
      "text/markdown": [
       "\n",
       "A tibble: 8 × 8\n",
       "\n",
       "| policy_category &lt;chr&gt; | policy_count &lt;int&gt; | critical_count &lt;int&gt; | percentage &lt;dbl&gt; | cy_early &lt;dbl&gt; | cy_central &lt;dbl&gt; | slr_mode &lt;int&gt; | slr_mode_perc &lt;dbl&gt; |\n",
       "|---|---|---|---|---|---|---|---|\n",
       "| No nourishment | Conservation              |  54 | 39 | 72 | 2060 | 2083 | 3 |  46 |\n",
       "| Nourishment (10 years) | Conservation      | 108 | 73 | 68 | 2064 | 2089 | 3 |  49 |\n",
       "| Nourishment (5 years) | Conservation       |  90 | 54 | 60 | 2066 | 2088 | 3 |  56 |\n",
       "| No Nourishment | Marsh Restoration         |  54 | 32 | 59 | 2063 | 2088 | 3 |  56 |\n",
       "| Nourishment (10 years) | Marsh Restoration | 108 | 61 | 56 | 2067 | 2096 | 3 |  59 |\n",
       "| Nourishment (5 years) | Marsh Restoration  |  90 | 45 | 50 | 2073 | 2094 | 3 |  67 |\n",
       "| Nourishment (annual) | Conservation        |  72 | 27 | 38 | 2086 | 2098 | 3 |  89 |\n",
       "| Nourishment (annual) | Marsh Restoration   |  72 | 24 | 33 | 2095 | 2102 | 3 | 100 |\n",
       "\n"
      ],
      "text/plain": [
       "  policy_category                            policy_count critical_count\n",
       "1 No nourishment | Conservation               54          39            \n",
       "2 Nourishment (10 years) | Conservation      108          73            \n",
       "3 Nourishment (5 years) | Conservation        90          54            \n",
       "4 No Nourishment | Marsh Restoration          54          32            \n",
       "5 Nourishment (10 years) | Marsh Restoration 108          61            \n",
       "6 Nourishment (5 years) | Marsh Restoration   90          45            \n",
       "7 Nourishment (annual) | Conservation         72          27            \n",
       "8 Nourishment (annual) | Marsh Restoration    72          24            \n",
       "  percentage cy_early cy_central slr_mode slr_mode_perc\n",
       "1 72         2060     2083       3         46          \n",
       "2 68         2064     2089       3         49          \n",
       "3 60         2066     2088       3         56          \n",
       "4 59         2063     2088       3         56          \n",
       "5 56         2067     2096       3         59          \n",
       "6 50         2073     2094       3         67          \n",
       "7 38         2086     2098       3         89          \n",
       "8 33         2095     2102       3        100          "
      ]
     },
     "metadata": {},
     "output_type": "display_data"
    }
   ],
   "source": [
    "policy_agg_s15_85"
   ]
  },
  {
   "cell_type": "markdown",
   "id": "2fc57009",
   "metadata": {},
   "source": [
    "#### 4. Join with Sea Level Rise Data\n",
    "Sea level is the primary driver of system dynamics in the model. To link policy lifespans with sea level thresholds, we extract the sea level values corresponding to the earliest and median estimated critical years for each policy category.\n",
    "\n",
    "``slr_max_early: projected sea level at year 'cy_early'``  \n",
    "``slr_max_central: projected sea level at year 'cy_central'``\n",
    "\n",
    "Values are derived from the 95th percentile sea level rise projection to represent a high-end scenario. This choice is based on the ``slr_mode`` and ``slr_mode_perc`` values and aims to provide a conservative estimate.\n",
    "\n",
    "``slr_mean_early: projected sea level at year 'cy_early'``  \n",
    "``slr_mean_central: projected sea level at year 'cy_central'``\n",
    "\n",
    "Values derived from the 50th percentile sea level rise projection to represent a central estimate and thus a moderate or most likely scenario."
   ]
  },
  {
   "cell_type": "code",
   "execution_count": 324,
   "id": "a1254236",
   "metadata": {},
   "outputs": [],
   "source": [
    "dapp_s15_85 <- policy_agg_s15_85 %>%\n",
    "  left_join(slr_data %>% select(year, max_85), by = c(\"cy_early\" = \"year\")) %>%\n",
    "  rename(slr_max_early = max_85) %>%\n",
    "  left_join(slr_data %>% select(year, max_85), by = c(\"cy_central\" = \"year\")) %>%\n",
    "  rename(slr_max_central = max_85)%>%\n",
    "  mutate(RCP = \"RCP 8.5\")"
   ]
  },
  {
   "cell_type": "markdown",
   "id": "e462e987",
   "metadata": {},
   "source": [
    "The plotting range is the period ``2041-2100``. All values for ``cy_central`` outside this period can not be plotted, so they need to be replace by ``2100```."
   ]
  },
  {
   "cell_type": "code",
   "execution_count": 325,
   "id": "268df140",
   "metadata": {},
   "outputs": [],
   "source": [
    "dapp_s15_85 <- dapp_s15_85 %>%\n",
    "  mutate(cy_central_cut = ifelse(cy_central > 2100, 2100, cy_central))"
   ]
  },
  {
   "cell_type": "code",
   "execution_count": 326,
   "id": "045d483d",
   "metadata": {},
   "outputs": [
    {
     "data": {
      "text/html": [
       "<table class=\"dataframe\">\n",
       "<caption>A tibble: 8 × 4</caption>\n",
       "<thead>\n",
       "\t<tr><th scope=col>cy_central_cut</th><th scope=col>slr_max_early</th><th scope=col>policy_category</th><th scope=col>percentage</th></tr>\n",
       "\t<tr><th scope=col>&lt;dbl&gt;</th><th scope=col>&lt;dbl&gt;</th><th scope=col>&lt;chr&gt;</th><th scope=col>&lt;dbl&gt;</th></tr>\n",
       "</thead>\n",
       "<tbody>\n",
       "\t<tr><td>2083</td><td>0.5247</td><td>No nourishment | Conservation             </td><td>72</td></tr>\n",
       "\t<tr><td>2089</td><td>0.5791</td><td>Nourishment (10 years) | Conservation     </td><td>68</td></tr>\n",
       "\t<tr><td>2088</td><td>0.6095</td><td>Nourishment (5 years) | Conservation      </td><td>60</td></tr>\n",
       "\t<tr><td>2088</td><td>0.5647</td><td>No Nourishment | Marsh Restoration        </td><td>59</td></tr>\n",
       "\t<tr><td>2096</td><td>0.6221</td><td>Nourishment (10 years) | Marsh Restoration</td><td>56</td></tr>\n",
       "\t<tr><td>2094</td><td>0.7091</td><td>Nourishment (5 years) | Marsh Restoration </td><td>50</td></tr>\n",
       "\t<tr><td>2098</td><td>0.9246</td><td>Nourishment (annual) | Conservation       </td><td>38</td></tr>\n",
       "\t<tr><td>2100</td><td>1.0821</td><td>Nourishment (annual) | Marsh Restoration  </td><td>33</td></tr>\n",
       "</tbody>\n",
       "</table>\n"
      ],
      "text/latex": [
       "A tibble: 8 × 4\n",
       "\\begin{tabular}{llll}\n",
       " cy\\_central\\_cut & slr\\_max\\_early & policy\\_category & percentage\\\\\n",
       " <dbl> & <dbl> & <chr> & <dbl>\\\\\n",
       "\\hline\n",
       "\t 2083 & 0.5247 & No nourishment \\textbar{} Conservation              & 72\\\\\n",
       "\t 2089 & 0.5791 & Nourishment (10 years) \\textbar{} Conservation      & 68\\\\\n",
       "\t 2088 & 0.6095 & Nourishment (5 years) \\textbar{} Conservation       & 60\\\\\n",
       "\t 2088 & 0.5647 & No Nourishment \\textbar{} Marsh Restoration         & 59\\\\\n",
       "\t 2096 & 0.6221 & Nourishment (10 years) \\textbar{} Marsh Restoration & 56\\\\\n",
       "\t 2094 & 0.7091 & Nourishment (5 years) \\textbar{} Marsh Restoration  & 50\\\\\n",
       "\t 2098 & 0.9246 & Nourishment (annual) \\textbar{} Conservation        & 38\\\\\n",
       "\t 2100 & 1.0821 & Nourishment (annual) \\textbar{} Marsh Restoration   & 33\\\\\n",
       "\\end{tabular}\n"
      ],
      "text/markdown": [
       "\n",
       "A tibble: 8 × 4\n",
       "\n",
       "| cy_central_cut &lt;dbl&gt; | slr_max_early &lt;dbl&gt; | policy_category &lt;chr&gt; | percentage &lt;dbl&gt; |\n",
       "|---|---|---|---|\n",
       "| 2083 | 0.5247 | No nourishment | Conservation              | 72 |\n",
       "| 2089 | 0.5791 | Nourishment (10 years) | Conservation      | 68 |\n",
       "| 2088 | 0.6095 | Nourishment (5 years) | Conservation       | 60 |\n",
       "| 2088 | 0.5647 | No Nourishment | Marsh Restoration         | 59 |\n",
       "| 2096 | 0.6221 | Nourishment (10 years) | Marsh Restoration | 56 |\n",
       "| 2094 | 0.7091 | Nourishment (5 years) | Marsh Restoration  | 50 |\n",
       "| 2098 | 0.9246 | Nourishment (annual) | Conservation        | 38 |\n",
       "| 2100 | 1.0821 | Nourishment (annual) | Marsh Restoration   | 33 |\n",
       "\n"
      ],
      "text/plain": [
       "  cy_central_cut slr_max_early policy_category                           \n",
       "1 2083           0.5247        No nourishment | Conservation             \n",
       "2 2089           0.5791        Nourishment (10 years) | Conservation     \n",
       "3 2088           0.6095        Nourishment (5 years) | Conservation      \n",
       "4 2088           0.5647        No Nourishment | Marsh Restoration        \n",
       "5 2096           0.6221        Nourishment (10 years) | Marsh Restoration\n",
       "6 2094           0.7091        Nourishment (5 years) | Marsh Restoration \n",
       "7 2098           0.9246        Nourishment (annual) | Conservation       \n",
       "8 2100           1.0821        Nourishment (annual) | Marsh Restoration  \n",
       "  percentage\n",
       "1 72        \n",
       "2 68        \n",
       "3 60        \n",
       "4 59        \n",
       "5 56        \n",
       "6 50        \n",
       "7 38        \n",
       "8 33        "
      ]
     },
     "metadata": {},
     "output_type": "display_data"
    }
   ],
   "source": [
    "dapp_s15_85[c(\"cy_central_cut\", \"slr_max_early\",\"policy_category\", \"percentage\")] "
   ]
  },
  {
   "cell_type": "markdown",
   "id": "b9f8bd15",
   "metadata": {},
   "source": [
    "#### 5. Assignment of policy category to Sea Level thresholds\n",
    "Based on the earliest onset of critical conditions for policy effectiveness, the ``slr_max_early`` value is used to assign policy categories to sea level rise (SLR) bandwidth groups.  \n",
    "Introduce an offset for adjusting the vertical positions of the plot elements."
   ]
  },
  {
   "cell_type": "code",
   "execution_count": 327,
   "id": "c267d273",
   "metadata": {},
   "outputs": [],
   "source": [
    "offset <- 0.1\n",
    "\n",
    "# Directly define threshold values as character\n",
    "threshold_vals <- c(\"0.5\", \"0.5\", \"0.6\", \"0.5\", \"0.6\", \"0.6\", \"0.8\", \"1.0\")\n",
    "\n",
    "dapp_s15_85 <- dapp_s15_85 %>%\n",
    "  mutate( threshold_f = factor(threshold_vals, levels = c(\"1.0\", \"0.8\", \"0.6\", \"0.5\"))) %>%\n",
    "  group_by(threshold_f) %>%\n",
    "  mutate( threshold_offset = as.numeric(factor(policy_category, levels = unique(policy_category)))) %>%\n",
    "  ungroup()"
   ]
  },
  {
   "cell_type": "code",
   "execution_count": 328,
   "id": "6a53356c",
   "metadata": {},
   "outputs": [],
   "source": [
    "# Define the color palette for policies\n",
    "palette_policy <- c(\n",
    "  'No nourishment | Conservation' = '#604611',\n",
    "  'Nourishment (10 years) | Conservation' = '#F4C542',\n",
    "  'Nourishment (5 years) | Conservation' = '#DDA63A',\n",
    "  'Nourishment (annual) | Conservation' = '#7D5A15',\n",
    "  'No Nourishment | Marsh Restoration' = '#D2EF3F',\n",
    "  'Nourishment (10 years) | Marsh Restoration' = '#8FC36B',\n",
    "  'Nourishment (5 years) | Marsh Restoration' = '#3F7E44',\n",
    "  'Nourishment (annual) | Marsh Restoration' = '#015CAF'\n",
    ")"
   ]
  },
  {
   "cell_type": "code",
   "execution_count": 329,
   "id": "73544a3e",
   "metadata": {},
   "outputs": [],
   "source": [
    "policy_lifespan_85 <- ggplot(dapp_s15_85) +\n",
    "    # opaque segment marking central estimate\n",
    "    geom_segment(\n",
    "    aes(x = cy_central - 0.4,  xend = cy_central,\n",
    "        y = threshold_offset, \n",
    "        yend = threshold_offset, color = policy_category\n",
    "        ), \n",
    "    size = 5\n",
    "  ) +\n",
    "  geom_segment(\n",
    "    aes(x = cy_early, xend = cy_central_cut, y = threshold_offset, \n",
    "        yend = threshold_offset, color = policy_category\n",
    "        ),\n",
    "    size = 5, alpha = 0.4\n",
    "  ) +\n",
    "  geom_text(\n",
    "    aes(x = 2042, y = threshold_offset, label = paste0(percentage, \"%\")),\n",
    "    size = 5, color = \"black\",hjust = 1,vjust = 0.5\n",
    "  ) +\n",
    "  geom_text(\n",
    "    aes(x = cy_early - 1, y = threshold_offset, label = as.character(cy_early)),\n",
    "    color = \"black\", size = 5, hjust = 1\n",
    "  ) +\n",
    "  geom_text(aes(x = cy_central_cut - 1, y = threshold_offset, label = as.character(cy_central)),\n",
    "    color = \"white\",fontface = \"bold\", size = 5, hjust = 1\n",
    "  ) +\n",
    "  scale_color_manual(values = palette_policy) +\n",
    "  facet_grid2(\n",
    "    threshold_f ~ ., scales = \"free_y\", switch = \"y\", strip = strip_themed(background_y = elem_list_rect(\n",
    "        fill = c(rep(\"#FF9999\", 4)),color = rep(\"transparent\", 4)\n",
    "      ),\n",
    "      text_y = elem_list_text(colour = c(rep(\"#FFFFFF\", 4)),by_layer_y = FALSE))\n",
    "  ) +\n",
    "  labs(\n",
    "    x = NULL, \n",
    "    y = \"SLR threshold\", \n",
    "    color = \"Policy\"\n",
    "  ) +\n",
    "  theme_bw() +\n",
    "  theme(\n",
    "    legend.title = element_blank(),\n",
    "    strip.text.y = element_text(size = 20),\n",
    "    strip.background = element_rect(fill = NA, colour = \"black\"),\n",
    "    panel.grid = element_blank(),\n",
    "    axis.text.x = element_text(angle = 45, hjust = 1, size = 20),\n",
    "    axis.ticks.x = element_blank(),\n",
    "    axis.ticks.y = element_blank(),\n",
    "    legend.position = \"bottom\",\n",
    "    legend.text = element_text(size = 16),\n",
    "    legend.key.width = unit(2, \"cm\"),\n",
    "    legend.key.size = unit(0.5, \"cm\"),\n",
    "    plot.title = element_text(size = 25, face = \"bold\"),\n",
    "    plot.subtitle = element_text(size = 23, face = \"italic\"),\n",
    "    plot.caption = element_text(size = 17),\n",
    "    axis.title.y = element_text(hjust = 0.5, size = 20),\n",
    "    axis.text.y = element_blank(),\n",
    "    panel.spacing = unit(0.5, \"lines\")\n",
    "  ) +\n",
    "  guides(colour = guide_legend(ncol = 2)) +\n",
    "  scale_x_continuous(\n",
    "    limits = c(2040, 2100),\n",
    "    breaks = seq(2040, 2100, by = 10),\n",
    "    labels = seq(2040, 2100, by = 10)\n",
    "  ) +\n",
    "  scale_y_continuous(expand = expansion(mult = c(0.2, 0.2)))"
   ]
  },
  {
   "cell_type": "code",
   "execution_count": 330,
   "id": "a406b290",
   "metadata": {
    "scrolled": true
   },
   "outputs": [
    {
     "name": "stderr",
     "output_type": "stream",
     "text": [
      "Warning message:\n",
      "\"\u001b[1m\u001b[22mRemoved 1 row containing missing values or values outside the scale range (`geom_segment()`).\"\n"
     ]
    },
    {
     "data": {
      "image/png": "[encoded data removed]",
      "text/plain": [
       "plot without title"
      ]
     },
     "metadata": {
      "image/png": {
       "height": 480,
       "width": 960
      }
     },
     "output_type": "display_data"
    }
   ],
   "source": [
    "options(repr.plot.width = 16, repr.plot.height = 8)\n",
    "print(policy_lifespan_85)"
   ]
  },
  {
   "cell_type": "code",
   "execution_count": null,
   "id": "b5788918",
   "metadata": {},
   "outputs": [],
   "source": []
  }
 ],
 "metadata": {
  "kernelspec": {
   "display_name": "R",
   "language": "R",
   "name": "ir"
  },
  "language_info": {
   "codemirror_mode": "r",
   "file_extension": ".r",
   "mimetype": "text/x-r-source",
   "name": "R",
   "pygments_lexer": "r",
   "version": "4.2.2"
  }
 },
 "nbformat": 4,
 "nbformat_minor": 5
}
