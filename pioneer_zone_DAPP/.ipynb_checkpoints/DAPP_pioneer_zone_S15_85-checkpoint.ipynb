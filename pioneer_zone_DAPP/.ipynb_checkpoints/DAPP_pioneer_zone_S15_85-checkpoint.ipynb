{
 "cells": [
  {
   "cell_type": "code",
   "execution_count": 5,
   "id": "7ee49c4a",
   "metadata": {},
   "outputs": [
    {
     "name": "stderr",
     "output_type": "stream",
     "text": [
      "Warning message:\n",
      "\"Paket 'dplyr' wurde unter R Version 4.2.3 erstellt\"\n",
      "\n",
      "Attache Paket: 'dplyr'\n",
      "\n",
      "\n",
      "Die folgenden Objekte sind maskiert von 'package:stats':\n",
      "\n",
      "    filter, lag\n",
      "\n",
      "\n",
      "Die folgenden Objekte sind maskiert von 'package:base':\n",
      "\n",
      "    intersect, setdiff, setequal, union\n",
      "\n",
      "\n",
      "Lade nötiges Paket: lattice\n",
      "\n",
      "Lade nötiges Paket: survival\n",
      "\n",
      "Lade nötiges Paket: Formula\n",
      "\n",
      "Lade nötiges Paket: ggplot2\n",
      "\n",
      "Warning message:\n",
      "\"Paket 'ggplot2' wurde unter R Version 4.2.3 erstellt\"\n",
      "\n",
      "Attache Paket: 'Hmisc'\n",
      "\n",
      "\n",
      "Die folgenden Objekte sind maskiert von 'package:dplyr':\n",
      "\n",
      "    src, summarize\n",
      "\n",
      "\n",
      "Die folgenden Objekte sind maskiert von 'package:base':\n",
      "\n",
      "    format.pval, units\n",
      "\n",
      "\n"
     ]
    }
   ],
   "source": [
    "library(dplyr)\n",
    "library(Hmisc)   # for wtd.quantile if needed"
   ]
  },
  {
   "cell_type": "markdown",
   "id": "d500b874",
   "metadata": {},
   "source": [
    "### Timing of Policy Tipping Points\n",
    "\n",
    "The functional lifespan of a marsh adaptation measure ends when critical thresholds are crossed, requiring new interventions. This notebook uses exploratory modeling to estimate the timing of such tipping points under uncertainty. For each simulated future, the estimated year of critical conditions is recorded. The 5th percentile marks the earliest likely occurrence, offering a conservative estimate for proactive planning. The median indicates the most typical timing. Together, these values define a time window for potential policy failure, while the share of critical outcomes helps assess the reliability of this timing."
   ]
  },
  {
   "cell_type": "markdown",
   "id": "9eff4e9f",
   "metadata": {},
   "source": [
    "#### 1. Load cleaned datasets for East-Frisian focus area S15 | RCP8.5"
   ]
  },
  {
   "cell_type": "code",
   "execution_count": 10,
   "id": "496f99a0",
   "metadata": {
    "scrolled": true
   },
   "outputs": [],
   "source": [
    "policy_s15 <- read.table(\"../model_output_M/model_output_S15_clean/out_S15_85.txt\", sep = \"\\t\", header = TRUE)\n",
    "slr_data_85 <- read.table('../figures/data/figure_3_data/regional_slr_ar5.txt', sep = '\\t', header = TRUE)[, 1:4]\n",
    "slr_data_45 <- read.table('../figures/data/figure_3_data/regional_slr_ar5.txt', sep = '\\t', header = TRUE)[, 5:7]"
   ]
  },
  {
   "cell_type": "markdown",
   "id": "10d01382",
   "metadata": {},
   "source": [
    "#### 2. Create Policy Category Labels corresponding to Policy Levers $\\text{L}$\n",
    "Within the exploratory marsh accretion model, we assessed the impact of two management strategies on accretion dynamics: sand nourishment and vegetation management. Each strategy corresponds to a parameter in the dynamic accretion equation—sand nourishment influences the suspended sediment concentration $C$, while vegetation management affects the sediment trapping efficiency, expressed as the fraction of sediments depositing $f_d$. Each policy lever (e.g., nourishment frequency or vegetation intervention) is represented by a specific parameter value. To analyze potential policy lifespans, each simulated future state is labeled according to the applied combination of policy levers based on these parameter values.\n"
   ]
  },
  {
   "cell_type": "code",
   "execution_count": 12,
   "id": "37578be1",
   "metadata": {},
   "outputs": [],
   "source": [
    "policy_s15 <- policy_s15  %>%\n",
    "  filter(z_init == 0.7) %>%\n",
    "  mutate(policy_category = case_when(\n",
    "    c_flood_nourishment == 0.0 & fd == 0.4 ~ \"No nourishment | Conservation\",\n",
    "    c_flood_nourishment %in% c(0.3, 0.5) & nourishment_frequency == 10 & fd == 0.4 ~ \"Nourishment (10 years) | Conservation\",\n",
    "    c_flood_nourishment %in% c(0.3, 0.5) & nourishment_frequency == 5 & fd == 0.4 ~ \"Nourishment (5 years) | Conservation\",\n",
    "    c_flood_nourishment %in% c(0.3, 0.5) & nourishment_frequency == 1 & fd == 0.4 ~ \"Nourishment (annual) | Conservation\",\n",
    "    c_flood_nourishment == 0.0 & fd == 0.6 ~ \"No Nourishment | Marsh Restoration\",\n",
    "    c_flood_nourishment %in% c(0.3, 0.5) & nourishment_frequency == 10 & fd == 0.6 ~ \"Nourishment (10 years) | Marsh Restoration\",\n",
    "    c_flood_nourishment %in% c(0.3, 0.5) & nourishment_frequency == 5 & fd == 0.6 ~ \"Nourishment (5 years) | Marsh Restoration\",\n",
    "    c_flood_nourishment %in% c(0.3, 0.5) & nourishment_frequency == 1 & fd == 0.6 ~ \"Nourishment (annual) | Marsh Restoration\",\n",
    "    TRUE ~ \"Unclassified\"\n",
    "  ))"
   ]
  },
  {
   "cell_type": "markdown",
   "id": "dd8b4074",
   "metadata": {},
   "source": [
    "#### 3. Aggregate the Summary per Policy Category\n",
    "We defined vulnerability classes to indicate the likelihood of policy failure over time. Among them, the critical class (I) and the susceptible class (II) signal that a modeled future is approaching or has reached a policy tipping point. These classes are determined by the critical year—the point in time when sea level exceeds surface elevation.\n",
    "\n",
    "For each policy category, we first calculate the percentage of model runs assigned to classes I and II. Within this subset, we then estimate the 5th and 50th percentiles of the critical year distribution. These percentiles provide lower-bound and median estimates of policy lifespan under uncertain environmental conditions.\n",
    "\n",
    "\n",
    "``5th percentile``: \n",
    "- Shortest potential policy lifespan/ earliest critical policy threshold \n",
    "- first occurence of critical conditions under a given policy across the distribution of scenarios. \n",
    "- Conservative estimate of when criticality may begin, lower bound for proative decision making\n",
    "\n",
    "\n",
    "``50th percentile``: \n",
    "- measure of central tendency, highlighting the typical timing of critical conditions. "
   ]
  },
  {
   "cell_type": "code",
   "execution_count": 13,
   "id": "e445d068",
   "metadata": {},
   "outputs": [],
   "source": [
    "policy_s15 <- policy_s15 %>%\n",
    "  group_by(policy_category) %>%\n",
    "  summarise(\n",
    "    policy_count = n(),\n",
    "    critical_count = sum(est_crit_year < 2120, na.rm = TRUE),\n",
    "    percentage = round(critical_count * 100 / policy_count, 0),\n",
    "    earliest_est_crit_year = round(quantile(est_crit_year[est_crit_year < 2120], 0.05, na.rm = TRUE)),\n",
    "    median_est_crit_year = round(quantile(est_crit_year[est_crit_year < 2120], 0.5, na.rm = TRUE))\n",
    "  ) %>%\n",
    "  ungroup()"
   ]
  },
  {
   "cell_type": "code",
   "execution_count": 14,
   "id": "01e40414",
   "metadata": {},
   "outputs": [
    {
     "data": {
      "text/html": [
       "<table class=\"dataframe\">\n",
       "<caption>A tibble: 8 × 6</caption>\n",
       "<thead>\n",
       "\t<tr><th scope=col>policy_category</th><th scope=col>policy_count</th><th scope=col>critical_count</th><th scope=col>percentage</th><th scope=col>earliest_est_crit_year</th><th scope=col>median_est_crit_year</th></tr>\n",
       "\t<tr><th scope=col>&lt;chr&gt;</th><th scope=col>&lt;int&gt;</th><th scope=col>&lt;int&gt;</th><th scope=col>&lt;dbl&gt;</th><th scope=col>&lt;dbl&gt;</th><th scope=col>&lt;dbl&gt;</th></tr>\n",
       "</thead>\n",
       "<tbody>\n",
       "\t<tr><td>No Nourishment | Marsh Restoration        </td><td> 54</td><td>32</td><td>59</td><td>2063</td><td>2088</td></tr>\n",
       "\t<tr><td>No nourishment | Conservation             </td><td> 54</td><td>39</td><td>72</td><td>2060</td><td>2083</td></tr>\n",
       "\t<tr><td>Nourishment (10 years) | Conservation     </td><td>108</td><td>73</td><td>68</td><td>2064</td><td>2089</td></tr>\n",
       "\t<tr><td>Nourishment (10 years) | Marsh Restoration</td><td>108</td><td>61</td><td>56</td><td>2067</td><td>2096</td></tr>\n",
       "\t<tr><td>Nourishment (5 years) | Conservation      </td><td> 90</td><td>54</td><td>60</td><td>2066</td><td>2088</td></tr>\n",
       "\t<tr><td>Nourishment (5 years) | Marsh Restoration </td><td> 90</td><td>45</td><td>50</td><td>2073</td><td>2094</td></tr>\n",
       "\t<tr><td>Nourishment (annual) | Conservation       </td><td> 72</td><td>27</td><td>38</td><td>2086</td><td>2098</td></tr>\n",
       "\t<tr><td>Nourishment (annual) | Marsh Restoration  </td><td> 72</td><td>24</td><td>33</td><td>2095</td><td>2102</td></tr>\n",
       "</tbody>\n",
       "</table>\n"
      ],
      "text/latex": [
       "A tibble: 8 × 6\n",
       "\\begin{tabular}{llllll}\n",
       " policy\\_category & policy\\_count & critical\\_count & percentage & earliest\\_est\\_crit\\_year & median\\_est\\_crit\\_year\\\\\n",
       " <chr> & <int> & <int> & <dbl> & <dbl> & <dbl>\\\\\n",
       "\\hline\n",
       "\t No Nourishment \\textbar{} Marsh Restoration         &  54 & 32 & 59 & 2063 & 2088\\\\\n",
       "\t No nourishment \\textbar{} Conservation              &  54 & 39 & 72 & 2060 & 2083\\\\\n",
       "\t Nourishment (10 years) \\textbar{} Conservation      & 108 & 73 & 68 & 2064 & 2089\\\\\n",
       "\t Nourishment (10 years) \\textbar{} Marsh Restoration & 108 & 61 & 56 & 2067 & 2096\\\\\n",
       "\t Nourishment (5 years) \\textbar{} Conservation       &  90 & 54 & 60 & 2066 & 2088\\\\\n",
       "\t Nourishment (5 years) \\textbar{} Marsh Restoration  &  90 & 45 & 50 & 2073 & 2094\\\\\n",
       "\t Nourishment (annual) \\textbar{} Conservation        &  72 & 27 & 38 & 2086 & 2098\\\\\n",
       "\t Nourishment (annual) \\textbar{} Marsh Restoration   &  72 & 24 & 33 & 2095 & 2102\\\\\n",
       "\\end{tabular}\n"
      ],
      "text/markdown": [
       "\n",
       "A tibble: 8 × 6\n",
       "\n",
       "| policy_category &lt;chr&gt; | policy_count &lt;int&gt; | critical_count &lt;int&gt; | percentage &lt;dbl&gt; | earliest_est_crit_year &lt;dbl&gt; | median_est_crit_year &lt;dbl&gt; |\n",
       "|---|---|---|---|---|---|\n",
       "| No Nourishment | Marsh Restoration         |  54 | 32 | 59 | 2063 | 2088 |\n",
       "| No nourishment | Conservation              |  54 | 39 | 72 | 2060 | 2083 |\n",
       "| Nourishment (10 years) | Conservation      | 108 | 73 | 68 | 2064 | 2089 |\n",
       "| Nourishment (10 years) | Marsh Restoration | 108 | 61 | 56 | 2067 | 2096 |\n",
       "| Nourishment (5 years) | Conservation       |  90 | 54 | 60 | 2066 | 2088 |\n",
       "| Nourishment (5 years) | Marsh Restoration  |  90 | 45 | 50 | 2073 | 2094 |\n",
       "| Nourishment (annual) | Conservation        |  72 | 27 | 38 | 2086 | 2098 |\n",
       "| Nourishment (annual) | Marsh Restoration   |  72 | 24 | 33 | 2095 | 2102 |\n",
       "\n"
      ],
      "text/plain": [
       "  policy_category                            policy_count critical_count\n",
       "1 No Nourishment | Marsh Restoration          54          32            \n",
       "2 No nourishment | Conservation               54          39            \n",
       "3 Nourishment (10 years) | Conservation      108          73            \n",
       "4 Nourishment (10 years) | Marsh Restoration 108          61            \n",
       "5 Nourishment (5 years) | Conservation        90          54            \n",
       "6 Nourishment (5 years) | Marsh Restoration   90          45            \n",
       "7 Nourishment (annual) | Conservation         72          27            \n",
       "8 Nourishment (annual) | Marsh Restoration    72          24            \n",
       "  percentage earliest_est_crit_year median_est_crit_year\n",
       "1 59         2063                   2088                \n",
       "2 72         2060                   2083                \n",
       "3 68         2064                   2089                \n",
       "4 56         2067                   2096                \n",
       "5 60         2066                   2088                \n",
       "6 50         2073                   2094                \n",
       "7 38         2086                   2098                \n",
       "8 33         2095                   2102                "
      ]
     },
     "metadata": {},
     "output_type": "display_data"
    }
   ],
   "source": [
    "policy_s15"
   ]
  },
  {
   "cell_type": "markdown",
   "id": "2fc57009",
   "metadata": {},
   "source": [
    "#### 4. Join with Water Level Data\n",
    "Sea level is the primary driver of system dynamics in the model. To link policy lifespans with sea level thresholds, we extract the sea level values corresponding to the earliest and median estimated critical years for each policy category.\n"
   ]
  },
  {
   "cell_type": "code",
   "execution_count": 19,
   "id": "a1254236",
   "metadata": {},
   "outputs": [],
   "source": [
    "policy_slr_s15 <- policy_s15 %>%\n",
    "  left_join(slr_data_85 %>% select(year, max_85), by = c(\"earliest_est_crit_year\" = \"year\")) %>%\n",
    "  rename(earliest_slr_crit = max_85) %>%\n",
    "  left_join(slr_data_85 %>% select(year, max_85), by = c(\"median_est_crit_year\" = \"year\")) %>%\n",
    "  rename(central_slr_crit = max_85)\n"
   ]
  },
  {
   "cell_type": "code",
   "execution_count": 20,
   "id": "1e449230",
   "metadata": {
    "scrolled": false
   },
   "outputs": [],
   "source": [
    "policy_slr_s15  <- policy_slr_s15 %>%\n",
    "  mutate(RCP = \"RCP 8.5\")"
   ]
  },
  {
   "cell_type": "markdown",
   "id": "6973d802",
   "metadata": {},
   "source": [
    "#### 5. Sort for Presentation"
   ]
  },
  {
   "cell_type": "code",
   "execution_count": 32,
   "id": "cad2b140",
   "metadata": {},
   "outputs": [],
   "source": [
    "policy_order <- c(\n",
    "  \"No nourishment | Conservation\",\n",
    "  \"Nourishment (10 years) | Conservation\",\n",
    "  \"Nourishment (5 years) | Conservation\",\n",
    "  \"No Nourishment | Marsh Restoration\",\n",
    "  \"Nourishment (10 years) | Marsh Restoration\",\n",
    "  \"Nourishment (5 years) | Marsh Restoration\",\n",
    "  \"Nourishment (annual) | Conservation\",\n",
    "  \"Nourishment (annual) | Marsh Restoration\"\n",
    ")\n",
    "\n",
    "policy_slr_s15 <- policy_slr_s15 %>%\n",
    "  mutate(order_col = match(policy_category, policy_order)) %>%\n",
    "  arrange(order_col, desc(percentage), desc(policy_count)) %>%\n",
    "  select(-order_col)"
   ]
  },
  {
   "cell_type": "code",
   "execution_count": 27,
   "id": "7892cf82",
   "metadata": {},
   "outputs": [],
   "source": [
    "policy_slr_s15$slr_diff <- policy_slr_s15$central_slr_crit-policy_slr_s15$earliest_slr_crit"
   ]
  },
  {
   "cell_type": "code",
   "execution_count": 28,
   "id": "7ec2c850",
   "metadata": {},
   "outputs": [
    {
     "data": {
      "text/html": [
       "<style>\n",
       ".list-inline {list-style: none; margin:0; padding: 0}\n",
       ".list-inline>li {display: inline-block}\n",
       ".list-inline>li:not(:last-child)::after {content: \"\\00b7\"; padding: 0 .5ex}\n",
       "</style>\n",
       "<ol class=list-inline><li>0.3513</li><li>0.3922</li><li>0.3458</li><li>0.3906</li><li>0.4707</li><li>0.3523</li><li>0.2112</li><li>&lt;NA&gt;</li></ol>\n"
      ],
      "text/latex": [
       "\\begin{enumerate*}\n",
       "\\item 0.3513\n",
       "\\item 0.3922\n",
       "\\item 0.3458\n",
       "\\item 0.3906\n",
       "\\item 0.4707\n",
       "\\item 0.3523\n",
       "\\item 0.2112\n",
       "\\item <NA>\n",
       "\\end{enumerate*}\n"
      ],
      "text/markdown": [
       "1. 0.3513\n",
       "2. 0.3922\n",
       "3. 0.3458\n",
       "4. 0.3906\n",
       "5. 0.4707\n",
       "6. 0.3523\n",
       "7. 0.2112\n",
       "8. &lt;NA&gt;\n",
       "\n",
       "\n"
      ],
      "text/plain": [
       "[1] 0.3513 0.3922 0.3458 0.3906 0.4707 0.3523 0.2112     NA"
      ]
     },
     "metadata": {},
     "output_type": "display_data"
    }
   ],
   "source": [
    "policy_slr_s15$slr_diff "
   ]
  },
  {
   "cell_type": "code",
   "execution_count": 33,
   "id": "7415f953",
   "metadata": {},
   "outputs": [],
   "source": [
    "plot_data_85 <- policy_slr_s15"
   ]
  },
  {
   "cell_type": "code",
   "execution_count": 34,
   "id": "0addd916",
   "metadata": {},
   "outputs": [],
   "source": [
    "##############     INDIVIDUAL STEP FOR EACH data_frame USED    ###################################\n",
    "plot_data_85$threshold_numeric<-c(\"0.5\",  \"0.5\",  \"0.5\",  \"0.5\",  \"0.6\", \"0.6\", \"0.8\",  \"1.0\")   \n"
   ]
  },
  {
   "cell_type": "code",
   "execution_count": 35,
   "id": "d58dd743",
   "metadata": {},
   "outputs": [
    {
     "data": {
      "text/html": [
       "<table class=\"dataframe\">\n",
       "<caption>A tibble: 8 × 11</caption>\n",
       "<thead>\n",
       "\t<tr><th scope=col>policy_category</th><th scope=col>policy_count</th><th scope=col>critical_count</th><th scope=col>percentage</th><th scope=col>earliest_est_crit_year</th><th scope=col>median_est_crit_year</th><th scope=col>earliest_slr_crit</th><th scope=col>central_slr_crit</th><th scope=col>RCP</th><th scope=col>slr_diff</th><th scope=col>threshold_numeric</th></tr>\n",
       "\t<tr><th scope=col>&lt;chr&gt;</th><th scope=col>&lt;int&gt;</th><th scope=col>&lt;int&gt;</th><th scope=col>&lt;dbl&gt;</th><th scope=col>&lt;dbl&gt;</th><th scope=col>&lt;dbl&gt;</th><th scope=col>&lt;dbl&gt;</th><th scope=col>&lt;dbl&gt;</th><th scope=col>&lt;chr&gt;</th><th scope=col>&lt;dbl&gt;</th><th scope=col>&lt;chr&gt;</th></tr>\n",
       "</thead>\n",
       "<tbody>\n",
       "\t<tr><td>No nourishment | Conservation             </td><td> 54</td><td>39</td><td>72</td><td>2060</td><td>2083</td><td>0.5247</td><td>0.8760</td><td>RCP 8.5</td><td>0.3513</td><td>0.5</td></tr>\n",
       "\t<tr><td>Nourishment (10 years) | Conservation     </td><td>108</td><td>73</td><td>68</td><td>2064</td><td>2089</td><td>0.5791</td><td>0.9713</td><td>RCP 8.5</td><td>0.3922</td><td>0.5</td></tr>\n",
       "\t<tr><td>Nourishment (5 years) | Conservation      </td><td> 90</td><td>54</td><td>60</td><td>2066</td><td>2088</td><td>0.6095</td><td>0.9553</td><td>RCP 8.5</td><td>0.3458</td><td>0.5</td></tr>\n",
       "\t<tr><td>No Nourishment | Marsh Restoration        </td><td> 54</td><td>32</td><td>59</td><td>2063</td><td>2088</td><td>0.5647</td><td>0.9553</td><td>RCP 8.5</td><td>0.3906</td><td>0.5</td></tr>\n",
       "\t<tr><td>Nourishment (10 years) | Marsh Restoration</td><td>108</td><td>61</td><td>56</td><td>2067</td><td>2096</td><td>0.6221</td><td>1.0928</td><td>RCP 8.5</td><td>0.4707</td><td>0.6</td></tr>\n",
       "\t<tr><td>Nourishment (5 years) | Marsh Restoration </td><td> 90</td><td>45</td><td>50</td><td>2073</td><td>2094</td><td>0.7091</td><td>1.0614</td><td>RCP 8.5</td><td>0.3523</td><td>0.6</td></tr>\n",
       "\t<tr><td>Nourishment (annual) | Conservation       </td><td> 72</td><td>27</td><td>38</td><td>2086</td><td>2098</td><td>0.9246</td><td>1.1358</td><td>RCP 8.5</td><td>0.2112</td><td>0.8</td></tr>\n",
       "\t<tr><td>Nourishment (annual) | Marsh Restoration  </td><td> 72</td><td>24</td><td>33</td><td>2095</td><td>2102</td><td>1.0821</td><td>    NA</td><td>RCP 8.5</td><td>    NA</td><td>1.0</td></tr>\n",
       "</tbody>\n",
       "</table>\n"
      ],
      "text/latex": [
       "A tibble: 8 × 11\n",
       "\\begin{tabular}{lllllllllll}\n",
       " policy\\_category & policy\\_count & critical\\_count & percentage & earliest\\_est\\_crit\\_year & median\\_est\\_crit\\_year & earliest\\_slr\\_crit & central\\_slr\\_crit & RCP & slr\\_diff & threshold\\_numeric\\\\\n",
       " <chr> & <int> & <int> & <dbl> & <dbl> & <dbl> & <dbl> & <dbl> & <chr> & <dbl> & <chr>\\\\\n",
       "\\hline\n",
       "\t No nourishment \\textbar{} Conservation              &  54 & 39 & 72 & 2060 & 2083 & 0.5247 & 0.8760 & RCP 8.5 & 0.3513 & 0.5\\\\\n",
       "\t Nourishment (10 years) \\textbar{} Conservation      & 108 & 73 & 68 & 2064 & 2089 & 0.5791 & 0.9713 & RCP 8.5 & 0.3922 & 0.5\\\\\n",
       "\t Nourishment (5 years) \\textbar{} Conservation       &  90 & 54 & 60 & 2066 & 2088 & 0.6095 & 0.9553 & RCP 8.5 & 0.3458 & 0.5\\\\\n",
       "\t No Nourishment \\textbar{} Marsh Restoration         &  54 & 32 & 59 & 2063 & 2088 & 0.5647 & 0.9553 & RCP 8.5 & 0.3906 & 0.5\\\\\n",
       "\t Nourishment (10 years) \\textbar{} Marsh Restoration & 108 & 61 & 56 & 2067 & 2096 & 0.6221 & 1.0928 & RCP 8.5 & 0.4707 & 0.6\\\\\n",
       "\t Nourishment (5 years) \\textbar{} Marsh Restoration  &  90 & 45 & 50 & 2073 & 2094 & 0.7091 & 1.0614 & RCP 8.5 & 0.3523 & 0.6\\\\\n",
       "\t Nourishment (annual) \\textbar{} Conservation        &  72 & 27 & 38 & 2086 & 2098 & 0.9246 & 1.1358 & RCP 8.5 & 0.2112 & 0.8\\\\\n",
       "\t Nourishment (annual) \\textbar{} Marsh Restoration   &  72 & 24 & 33 & 2095 & 2102 & 1.0821 &     NA & RCP 8.5 &     NA & 1.0\\\\\n",
       "\\end{tabular}\n"
      ],
      "text/markdown": [
       "\n",
       "A tibble: 8 × 11\n",
       "\n",
       "| policy_category &lt;chr&gt; | policy_count &lt;int&gt; | critical_count &lt;int&gt; | percentage &lt;dbl&gt; | earliest_est_crit_year &lt;dbl&gt; | median_est_crit_year &lt;dbl&gt; | earliest_slr_crit &lt;dbl&gt; | central_slr_crit &lt;dbl&gt; | RCP &lt;chr&gt; | slr_diff &lt;dbl&gt; | threshold_numeric &lt;chr&gt; |\n",
       "|---|---|---|---|---|---|---|---|---|---|---|\n",
       "| No nourishment | Conservation              |  54 | 39 | 72 | 2060 | 2083 | 0.5247 | 0.8760 | RCP 8.5 | 0.3513 | 0.5 |\n",
       "| Nourishment (10 years) | Conservation      | 108 | 73 | 68 | 2064 | 2089 | 0.5791 | 0.9713 | RCP 8.5 | 0.3922 | 0.5 |\n",
       "| Nourishment (5 years) | Conservation       |  90 | 54 | 60 | 2066 | 2088 | 0.6095 | 0.9553 | RCP 8.5 | 0.3458 | 0.5 |\n",
       "| No Nourishment | Marsh Restoration         |  54 | 32 | 59 | 2063 | 2088 | 0.5647 | 0.9553 | RCP 8.5 | 0.3906 | 0.5 |\n",
       "| Nourishment (10 years) | Marsh Restoration | 108 | 61 | 56 | 2067 | 2096 | 0.6221 | 1.0928 | RCP 8.5 | 0.4707 | 0.6 |\n",
       "| Nourishment (5 years) | Marsh Restoration  |  90 | 45 | 50 | 2073 | 2094 | 0.7091 | 1.0614 | RCP 8.5 | 0.3523 | 0.6 |\n",
       "| Nourishment (annual) | Conservation        |  72 | 27 | 38 | 2086 | 2098 | 0.9246 | 1.1358 | RCP 8.5 | 0.2112 | 0.8 |\n",
       "| Nourishment (annual) | Marsh Restoration   |  72 | 24 | 33 | 2095 | 2102 | 1.0821 |     NA | RCP 8.5 |     NA | 1.0 |\n",
       "\n"
      ],
      "text/plain": [
       "  policy_category                            policy_count critical_count\n",
       "1 No nourishment | Conservation               54          39            \n",
       "2 Nourishment (10 years) | Conservation      108          73            \n",
       "3 Nourishment (5 years) | Conservation        90          54            \n",
       "4 No Nourishment | Marsh Restoration          54          32            \n",
       "5 Nourishment (10 years) | Marsh Restoration 108          61            \n",
       "6 Nourishment (5 years) | Marsh Restoration   90          45            \n",
       "7 Nourishment (annual) | Conservation         72          27            \n",
       "8 Nourishment (annual) | Marsh Restoration    72          24            \n",
       "  percentage earliest_est_crit_year median_est_crit_year earliest_slr_crit\n",
       "1 72         2060                   2083                 0.5247           \n",
       "2 68         2064                   2089                 0.5791           \n",
       "3 60         2066                   2088                 0.6095           \n",
       "4 59         2063                   2088                 0.5647           \n",
       "5 56         2067                   2096                 0.6221           \n",
       "6 50         2073                   2094                 0.7091           \n",
       "7 38         2086                   2098                 0.9246           \n",
       "8 33         2095                   2102                 1.0821           \n",
       "  central_slr_crit RCP     slr_diff threshold_numeric\n",
       "1 0.8760           RCP 8.5 0.3513   0.5              \n",
       "2 0.9713           RCP 8.5 0.3922   0.5              \n",
       "3 0.9553           RCP 8.5 0.3458   0.5              \n",
       "4 0.9553           RCP 8.5 0.3906   0.5              \n",
       "5 1.0928           RCP 8.5 0.4707   0.6              \n",
       "6 1.0614           RCP 8.5 0.3523   0.6              \n",
       "7 1.1358           RCP 8.5 0.2112   0.8              \n",
       "8     NA           RCP 8.5     NA   1.0              "
      ]
     },
     "metadata": {},
     "output_type": "display_data"
    }
   ],
   "source": [
    "plot_data_85"
   ]
  },
  {
   "cell_type": "code",
   "execution_count": null,
   "id": "396336a0",
   "metadata": {},
   "outputs": [],
   "source": []
  },
  {
   "cell_type": "markdown",
   "id": "633d9a63",
   "metadata": {},
   "source": [
    "### Code from figure 6 notebook"
   ]
  },
  {
   "cell_type": "code",
   "execution_count": 36,
   "id": "ac46cb3e",
   "metadata": {},
   "outputs": [
    {
     "ename": "ERROR",
     "evalue": "\u001b[1m\u001b[33mError\u001b[39m in `mutate()`:\u001b[22m\n\u001b[1m\u001b[22m\u001b[36mℹ\u001b[39m In argument: `threshold_numeric = as.numeric(threshold)`.\n\u001b[1mCaused by error:\u001b[22m\n\u001b[33m!\u001b[39m Objekt 'threshold' nicht gefunden\n",
     "output_type": "error",
     "traceback": [
      "\u001b[1m\u001b[33mError\u001b[39m in `mutate()`:\u001b[22m\n\u001b[1m\u001b[22m\u001b[36mℹ\u001b[39m In argument: `threshold_numeric = as.numeric(threshold)`.\n\u001b[1mCaused by error:\u001b[22m\n\u001b[33m!\u001b[39m Objekt 'threshold' nicht gefunden\nTraceback:\n",
      "1. plot_data_85 %>% mutate(threshold_numeric = as.numeric(threshold), \n .     threshold_offset = threshold_numeric + row_number() * offset)",
      "2. mutate(., threshold_numeric = as.numeric(threshold), threshold_offset = threshold_numeric + \n .     row_number() * offset)",
      "3. mutate.data.frame(., threshold_numeric = as.numeric(threshold), \n .     threshold_offset = threshold_numeric + row_number() * offset)",
      "4. mutate_cols(.data, dplyr_quosures(...), by)",
      "5. withCallingHandlers(for (i in seq_along(dots)) {\n .     poke_error_context(dots, i, mask = mask)\n .     context_poke(\"column\", old_current_column)\n .     new_columns <- mutate_col(dots[[i]], data, mask, new_columns)\n . }, error = dplyr_error_handler(dots = dots, mask = mask, bullets = mutate_bullets, \n .     error_call = error_call, error_class = \"dplyr:::mutate_error\"), \n .     warning = dplyr_warning_handler(state = warnings_state, mask = mask, \n .         error_call = error_call))",
      "6. mutate_col(dots[[i]], data, mask, new_columns)",
      "7. mask$eval_all_mutate(quo)",
      "8. eval()",
      "9. .handleSimpleError(function (cnd) \n . {\n .     local_error_context(dots, i = frame[[i_sym]], mask = mask)\n .     if (inherits(cnd, \"dplyr:::internal_error\")) {\n .         parent <- error_cnd(message = bullets(cnd))\n .     }\n .     else {\n .         parent <- cnd\n .     }\n .     message <- c(cnd_bullet_header(action), i = if (has_active_group_context(mask)) cnd_bullet_cur_group_label())\n .     abort(message, class = error_class, parent = parent, call = error_call)\n . }, \"Objekt 'threshold' nicht gefunden\", base::quote(eval()))",
      "10. h(simpleError(msg, call))",
      "11. abort(message, class = error_class, parent = parent, call = error_call)",
      "12. signal_abort(cnd, .file)"
     ]
    }
   ],
   "source": [
    "\n",
    "# Define an offset for spacing between segments\n",
    "offset <- 0.1\n",
    "\n",
    "# Create a new data frame for plotting\n",
    "plot_data_85 <- plot_data_85 %>%\n",
    "  mutate(\n",
    "    threshold_numeric = as.numeric(threshold),\n",
    "    threshold_offset = threshold_numeric + row_number() * offset\n",
    "  )\n",
    "\n",
    "##############     INDIVIDUAL STEP FOR EACH data_frame USED    ###################################\n",
    "plot_data_85$threshold_char<-c(\"0.5\",  \"0.5\",  \"0.5\",  \"0.5\",  \"0.6\", \"0.6\", \"0.8\",  \"1.0\")   \n",
    "\n",
    "\n",
    "# Convert to factor with specific levels, ensuring \"1.00\" is included\n",
    "plot_data_85$threshold_f <- factor(plot_data_85$threshold_char, levels = c(\"1.0\", \"0.8\", \"0.6\", \"0.5\"))\n",
    "\n",
    "plot_data_85 <- plot_data_85 %>%\n",
    "  group_by(threshold) %>%\n",
    "  mutate(threshold_offset = as.numeric(factor(Policy, levels = unique(Policy))))\n"
   ]
  },
  {
   "cell_type": "code",
   "execution_count": null,
   "id": "5782daef",
   "metadata": {},
   "outputs": [],
   "source": [
    "# Define the color palette for policies\n",
    "palette_policy <- c(\n",
    "  'No nourishment | Conservation' = '#604611',\n",
    "  'Nourishment (10 years) | Conservation' = '#F4C542',\n",
    "  'Nourishment (5 years) | Conservation' = '#DDA63A',\n",
    "  'Nourishment (annual) | Conservation' = '#7D5A15',\n",
    "  'No Nourishment | Marsh Restoration' = '#D2EF3F',\n",
    "  'Nourishment (10 years) | Marsh Restoration' = '#8FC36B',\n",
    "  'Nourishment (5 years) | Marsh Restoration' = '#3F7E44',\n",
    "  'Nourishment (annual) | Marsh Restoration' = '#015CAF'\n",
    ")\n",
    "\n",
    "\n",
    "policy_lifespan_85 <- ggplot(plot_data_85) +\n",
    "  geom_segment(\n",
    "    aes(\n",
    "      x = central_crit_year_annotate - 0.4,  xend = central_crit_year_annotate, y = threshold_offset, \n",
    "      yend = threshold_offset,color = Policy\n",
    "    ), \n",
    "    size = 5\n",
    "  ) +\n",
    "  geom_segment(\n",
    "    aes(\n",
    "      x = min_crit_year, xend = central_crit_year, y = threshold_offset, \n",
    "      yend = threshold_offset,color = Policy\n",
    "    ),\n",
    "    size = 5, alpha = 0.4\n",
    "  ) +\n",
    "  geom_text(\n",
    "    aes(x = 2042,y = threshold_offset,label = paste0(percent, \"%\")),\n",
    "    size = 5, color = \"black\",hjust = 1,vjust = 0.5\n",
    "  ) +\n",
    "  geom_text(\n",
    "    aes(x = min_crit_year - 1, y = threshold_offset, label = min_crit_year),\n",
    "    color = \"black\", size = 5, hjust = 1\n",
    "  ) +\n",
    "  geom_text(aes(x = central_crit_year - 1, y = threshold_offset, label = central_crit_year_annotate),\n",
    "    color = \"white\",fontface = \"bold\", size = 5, hjust = 1\n",
    "  ) +\n",
    "  scale_color_manual(values = palette_policy) +\n",
    "  facet_grid2(\n",
    "    threshold_f ~ ., scales = \"free_y\", switch = \"y\", strip = strip_themed(background_y = elem_list_rect(\n",
    "        fill = c(rep(\"#FF9999\", 4)),color = rep(\"transparent\", 4)\n",
    "      ),\n",
    "      text_y = elem_list_text(colour = c(rep(\"#FFFFFF\", 4)),by_layer_y = FALSE))\n",
    "  ) +\n",
    "  labs(\n",
    "    x = NULL, \n",
    "    y = \"SLR threshold\", \n",
    "    color = \"Policy\"\n",
    "  ) +\n",
    "  theme_bw() +\n",
    "  theme(\n",
    "    legend.title = element_blank(),\n",
    "    strip.text.y = element_text(size = 20),\n",
    "    strip.background = element_rect(fill = NA, colour = \"black\"),\n",
    "    panel.grid = element_blank(),\n",
    "    axis.text.x = element_text(angle = 45, hjust = 1, size = 20),\n",
    "    axis.ticks.x = element_blank(),\n",
    "    axis.ticks.y = element_blank(),\n",
    "    legend.position = \"bottom\",\n",
    "    legend.text = element_text(size = 16),\n",
    "    legend.key.width = unit(2, \"cm\"),\n",
    "    legend.key.size = unit(0.5, \"cm\"),\n",
    "    plot.title = element_text(size = 25, face = \"bold\"),\n",
    "    plot.subtitle = element_text(size = 23, face = \"italic\"),\n",
    "    plot.caption = element_text(size = 17),\n",
    "    axis.title.y = element_text(hjust = 0.5, size = 20),\n",
    "    axis.text.y = element_blank(),\n",
    "    panel.spacing = unit(0.5, \"lines\")\n",
    "  ) +\n",
    "  guides(colour = guide_legend(ncol = 2)) +\n",
    "  scale_x_continuous(\n",
    "    limits = c(2040, 2100),\n",
    "    breaks = seq(2040, 2100, by = 10),\n",
    "    labels = seq(2040, 2100, by = 10)\n",
    "  ) +\n",
    "  scale_y_continuous(expand = expansion(mult = c(0.2, 0.2)))"
   ]
  }
 ],
 "metadata": {
  "kernelspec": {
   "display_name": "R",
   "language": "R",
   "name": "ir"
  },
  "language_info": {
   "codemirror_mode": "r",
   "file_extension": ".r",
   "mimetype": "text/x-r-source",
   "name": "R",
   "pygments_lexer": "r",
   "version": "4.2.2"
  }
 },
 "nbformat": 4,
 "nbformat_minor": 5
}
