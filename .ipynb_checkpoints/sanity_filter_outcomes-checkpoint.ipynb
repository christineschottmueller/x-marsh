{
 "cells": [
  {
   "cell_type": "code",
   "execution_count": 1,
   "id": "68e21012",
   "metadata": {},
   "outputs": [
    {
     "name": "stderr",
     "output_type": "stream",
     "text": [
      "C:\\Users\\cschott\\AppData\\Roaming\\Python\\Python311\\site-packages\\ema_workbench\\em_framework\\evaluators.py:58: UserWarning: ipyparallel not installed - IpyparalleEvaluator not available\n",
      "  warnings.warn(\"ipyparallel not installed - IpyparalleEvaluator not available\")\n"
     ]
    }
   ],
   "source": [
    "from ema_workbench import ema_logging, save_results, load_results"
   ]
  },
  {
   "cell_type": "code",
   "execution_count": null,
   "id": "b3dec4d8",
   "metadata": {},
   "outputs": [],
   "source": [
    "results=(C:/Users/cschott/Desktop/FutureUrbanCoastlines/GITHUB/MAM/exploratory_marsh_accretion_model/model_output_M/model_output_S15"
   ]
  },
  {
   "cell_type": "code",
   "execution_count": null,
   "id": "460d3c0d",
   "metadata": {},
   "outputs": [],
   "source": [
    "xperiments_flu, outcomes_flu = load_results('C:/Users/cschott/Desktop/FutureUrbanCoastlines/UNCERTAINTY/EMA-Workbench/1000 flu cases with policies.tar.gz')"
   ]
  }
 ],
 "metadata": {
  "kernelspec": {
   "display_name": "Python 3 (ipykernel)",
   "language": "python",
   "name": "python3"
  },
  "language_info": {
   "codemirror_mode": {
    "name": "ipython",
    "version": 3
   },
   "file_extension": ".py",
   "mimetype": "text/x-python",
   "name": "python",
   "nbconvert_exporter": "python",
   "pygments_lexer": "ipython3",
   "version": "3.11.5"
  }
 },
 "nbformat": 4,
 "nbformat_minor": 5
}
