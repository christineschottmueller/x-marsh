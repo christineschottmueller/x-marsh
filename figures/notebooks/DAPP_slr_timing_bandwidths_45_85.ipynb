{
 "cells": [
  {
   "cell_type": "code",
   "execution_count": 150,
   "id": "62d1565f",
   "metadata": {},
   "outputs": [],
   "source": [
    "library(readxl)\n",
    "library(dplyr)\n",
    "library(ggplot2)\n",
    "library(ggh4x) # for facet_grid2() and strip_themed()\n",
    "library(scales) # for percent()\n",
    "library(ggtext)    # for strip_themed (theme strip customization)\n",
    "library(grid)      # for unit()\n",
    "library(tidyr) \n",
    "library(reshape2)\n",
    "library(data.table)\n",
    "library(purrr) # for looping over multiple values and combining the results into one tidy data frame"
   ]
  },
  {
   "cell_type": "markdown",
   "id": "325b74f5",
   "metadata": {},
   "source": [
    "## Timing bandwidths of Sea Level Rise Thresholds\n",
    "As a key driver influencing the emergence of policy thresholds in our marsh accretion model, sea level rise plays a crucial role in shaping adaptation strategies. The information on a critical sea level threshold triggering a policy tipping point, combined with the timing of such a threshold, provides essential insights for adaptation decision-making. We build on the framework proposed by Slangen et al. (2022), using timing bandwidths of sea level rise thresholds to guide decision-making. "
   ]
  },
  {
   "cell_type": "markdown",
   "id": "3ff17a74",
   "metadata": {},
   "source": [
    "### Load plotting data\n",
    "\n",
    "\n",
    "**Plotting data for the sea level ranges**: Raw data with pre-plot-processing performed in this notebook."
   ]
  },
  {
   "cell_type": "code",
   "execution_count": 151,
   "id": "dcdd146c",
   "metadata": {},
   "outputs": [],
   "source": [
    "slr_ranges <- read.table('../data/figure_3_data/regional_slr_ar5.txt', sep = '\\t', header = TRUE)[, 1:7]\n",
    "slr_ranges_df = as.data.table(slr_ranges)\n",
    "slr_ranges_df <- slr_ranges_df %>%\n",
    "  mutate(year = as.double(year))"
   ]
  },
  {
   "cell_type": "markdown",
   "id": "a182a5e2",
   "metadata": {},
   "source": [
    "#### Figure 6 - middle\n"
   ]
  },
  {
   "cell_type": "markdown",
   "id": "e08b1b8c",
   "metadata": {},
   "source": [
    "Converting the data table to long format with columns ``year``, ``variable`` indicating the concentration pathway (RCP) and the the choice of lower, central or upper estimate within the sea level rise uncertainty envelope, and the corresponding ``value``. "
   ]
  },
  {
   "cell_type": "code",
   "execution_count": 152,
   "id": "577250a3",
   "metadata": {},
   "outputs": [],
   "source": [
    "melted = melt(slr_ranges_df, id.vars = \"year\")\n",
    "slr_long=data.table(melted)\n",
    "#slr_long$year <- \tas.Date(paste0(slr_long$year, \"-01-01\"))"
   ]
  },
  {
   "cell_type": "code",
   "execution_count": 153,
   "id": "c23a4424",
   "metadata": {},
   "outputs": [],
   "source": [
    "# Set threshold values\n",
    "threshold_vals <- c(\"0.5\", \"0.6\", \"0.8\", \"1.0\")\n",
    "\n",
    "slr_thr <- map_dfr(threshold_vals, function(thr) {\n",
    "  slr_long %>%\n",
    "    filter(value >= thr) %>%\n",
    "    group_by(variable) %>%\n",
    "    slice_min(order_by = value, with_ties = FALSE) %>%\n",
    "    ungroup() %>%\n",
    "    separate(variable, into = c(\"variable\", \"rcp\"), sep = \"_\", remove = FALSE) %>%\n",
    "    mutate(threshold = thr)%>%\n",
    "    select(year, variable, rcp, threshold)\n",
    "})"
   ]
  },
  {
   "cell_type": "code",
   "execution_count": 154,
   "id": "3f70d8df",
   "metadata": {
    "scrolled": true
   },
   "outputs": [
    {
     "data": {
      "text/html": [
       "<table class=\"dataframe\">\n",
       "<caption>A tibble: 11 × 4</caption>\n",
       "<thead>\n",
       "\t<tr><th scope=col>year</th><th scope=col>variable</th><th scope=col>rcp</th><th scope=col>threshold</th></tr>\n",
       "\t<tr><th scope=col>&lt;dbl&gt;</th><th scope=col>&lt;chr&gt;</th><th scope=col>&lt;chr&gt;</th><th scope=col>&lt;chr&gt;</th></tr>\n",
       "</thead>\n",
       "<tbody>\n",
       "\t<tr><td>2074</td><td>mean</td><td>85</td><td>0.5</td></tr>\n",
       "\t<tr><td>2058</td><td>max </td><td>85</td><td>0.5</td></tr>\n",
       "\t<tr><td>2090</td><td>mean</td><td>45</td><td>0.5</td></tr>\n",
       "\t<tr><td>2066</td><td>max </td><td>45</td><td>0.5</td></tr>\n",
       "\t<tr><td>2083</td><td>mean</td><td>85</td><td>0.6</td></tr>\n",
       "\t<tr><td>2066</td><td>max </td><td>85</td><td>0.6</td></tr>\n",
       "\t<tr><td>2077</td><td>max </td><td>45</td><td>0.6</td></tr>\n",
       "\t<tr><td>2100</td><td>mean</td><td>85</td><td>0.8</td></tr>\n",
       "\t<tr><td>2079</td><td>max </td><td>85</td><td>0.8</td></tr>\n",
       "\t<tr><td>2098</td><td>max </td><td>45</td><td>0.8</td></tr>\n",
       "\t<tr><td>2091</td><td>max </td><td>85</td><td>1.0</td></tr>\n",
       "</tbody>\n",
       "</table>\n"
      ],
      "text/latex": [
       "A tibble: 11 × 4\n",
       "\\begin{tabular}{llll}\n",
       " year & variable & rcp & threshold\\\\\n",
       " <dbl> & <chr> & <chr> & <chr>\\\\\n",
       "\\hline\n",
       "\t 2074 & mean & 85 & 0.5\\\\\n",
       "\t 2058 & max  & 85 & 0.5\\\\\n",
       "\t 2090 & mean & 45 & 0.5\\\\\n",
       "\t 2066 & max  & 45 & 0.5\\\\\n",
       "\t 2083 & mean & 85 & 0.6\\\\\n",
       "\t 2066 & max  & 85 & 0.6\\\\\n",
       "\t 2077 & max  & 45 & 0.6\\\\\n",
       "\t 2100 & mean & 85 & 0.8\\\\\n",
       "\t 2079 & max  & 85 & 0.8\\\\\n",
       "\t 2098 & max  & 45 & 0.8\\\\\n",
       "\t 2091 & max  & 85 & 1.0\\\\\n",
       "\\end{tabular}\n"
      ],
      "text/markdown": [
       "\n",
       "A tibble: 11 × 4\n",
       "\n",
       "| year &lt;dbl&gt; | variable &lt;chr&gt; | rcp &lt;chr&gt; | threshold &lt;chr&gt; |\n",
       "|---|---|---|---|\n",
       "| 2074 | mean | 85 | 0.5 |\n",
       "| 2058 | max  | 85 | 0.5 |\n",
       "| 2090 | mean | 45 | 0.5 |\n",
       "| 2066 | max  | 45 | 0.5 |\n",
       "| 2083 | mean | 85 | 0.6 |\n",
       "| 2066 | max  | 85 | 0.6 |\n",
       "| 2077 | max  | 45 | 0.6 |\n",
       "| 2100 | mean | 85 | 0.8 |\n",
       "| 2079 | max  | 85 | 0.8 |\n",
       "| 2098 | max  | 45 | 0.8 |\n",
       "| 2091 | max  | 85 | 1.0 |\n",
       "\n"
      ],
      "text/plain": [
       "   year variable rcp threshold\n",
       "1  2074 mean     85  0.5      \n",
       "2  2058 max      85  0.5      \n",
       "3  2090 mean     45  0.5      \n",
       "4  2066 max      45  0.5      \n",
       "5  2083 mean     85  0.6      \n",
       "6  2066 max      85  0.6      \n",
       "7  2077 max      45  0.6      \n",
       "8  2100 mean     85  0.8      \n",
       "9  2079 max      85  0.8      \n",
       "10 2098 max      45  0.8      \n",
       "11 2091 max      85  1.0      "
      ]
     },
     "metadata": {},
     "output_type": "display_data"
    }
   ],
   "source": [
    "slr_thr"
   ]
  },
  {
   "cell_type": "code",
   "execution_count": 155,
   "id": "67fcdf19",
   "metadata": {},
   "outputs": [
    {
     "data": {
      "text/html": [
       "<table class=\"dataframe\">\n",
       "<caption>A data.frame: 7 × 6</caption>\n",
       "<thead>\n",
       "\t<tr><th scope=col>rcp</th><th scope=col>threshold</th><th scope=col>mean</th><th scope=col>max</th><th scope=col>min</th><th scope=col>mean_segment</th></tr>\n",
       "\t<tr><th scope=col>&lt;chr&gt;</th><th scope=col>&lt;chr&gt;</th><th scope=col>&lt;dbl&gt;</th><th scope=col>&lt;dbl&gt;</th><th scope=col>&lt;dbl&gt;</th><th scope=col>&lt;dbl&gt;</th></tr>\n",
       "</thead>\n",
       "<tbody>\n",
       "\t<tr><td>85</td><td>0.5</td><td>2074</td><td>2058</td><td>2100</td><td>2074</td></tr>\n",
       "\t<tr><td>45</td><td>0.5</td><td>2090</td><td>2066</td><td>2100</td><td>2090</td></tr>\n",
       "\t<tr><td>85</td><td>0.6</td><td>2083</td><td>2066</td><td>2100</td><td>2083</td></tr>\n",
       "\t<tr><td>45</td><td>0.6</td><td>  NA</td><td>2077</td><td>2100</td><td>2100</td></tr>\n",
       "\t<tr><td>85</td><td>0.8</td><td>2100</td><td>2079</td><td>2100</td><td>2100</td></tr>\n",
       "\t<tr><td>45</td><td>0.8</td><td>  NA</td><td>2098</td><td>2100</td><td>2100</td></tr>\n",
       "\t<tr><td>85</td><td>1.0</td><td>  NA</td><td>2091</td><td>2100</td><td>2100</td></tr>\n",
       "</tbody>\n",
       "</table>\n"
      ],
      "text/latex": [
       "A data.frame: 7 × 6\n",
       "\\begin{tabular}{llllll}\n",
       " rcp & threshold & mean & max & min & mean\\_segment\\\\\n",
       " <chr> & <chr> & <dbl> & <dbl> & <dbl> & <dbl>\\\\\n",
       "\\hline\n",
       "\t 85 & 0.5 & 2074 & 2058 & 2100 & 2074\\\\\n",
       "\t 45 & 0.5 & 2090 & 2066 & 2100 & 2090\\\\\n",
       "\t 85 & 0.6 & 2083 & 2066 & 2100 & 2083\\\\\n",
       "\t 45 & 0.6 &   NA & 2077 & 2100 & 2100\\\\\n",
       "\t 85 & 0.8 & 2100 & 2079 & 2100 & 2100\\\\\n",
       "\t 45 & 0.8 &   NA & 2098 & 2100 & 2100\\\\\n",
       "\t 85 & 1.0 &   NA & 2091 & 2100 & 2100\\\\\n",
       "\\end{tabular}\n"
      ],
      "text/markdown": [
       "\n",
       "A data.frame: 7 × 6\n",
       "\n",
       "| rcp &lt;chr&gt; | threshold &lt;chr&gt; | mean &lt;dbl&gt; | max &lt;dbl&gt; | min &lt;dbl&gt; | mean_segment &lt;dbl&gt; |\n",
       "|---|---|---|---|---|---|\n",
       "| 85 | 0.5 | 2074 | 2058 | 2100 | 2074 |\n",
       "| 45 | 0.5 | 2090 | 2066 | 2100 | 2090 |\n",
       "| 85 | 0.6 | 2083 | 2066 | 2100 | 2083 |\n",
       "| 45 | 0.6 |   NA | 2077 | 2100 | 2100 |\n",
       "| 85 | 0.8 | 2100 | 2079 | 2100 | 2100 |\n",
       "| 45 | 0.8 |   NA | 2098 | 2100 | 2100 |\n",
       "| 85 | 1.0 |   NA | 2091 | 2100 | 2100 |\n",
       "\n"
      ],
      "text/plain": [
       "  rcp threshold mean max  min  mean_segment\n",
       "1 85  0.5       2074 2058 2100 2074        \n",
       "2 45  0.5       2090 2066 2100 2090        \n",
       "3 85  0.6       2083 2066 2100 2083        \n",
       "4 45  0.6         NA 2077 2100 2100        \n",
       "5 85  0.8       2100 2079 2100 2100        \n",
       "6 45  0.8         NA 2098 2100 2100        \n",
       "7 85  1.0         NA 2091 2100 2100        "
      ]
     },
     "metadata": {},
     "output_type": "display_data"
    }
   ],
   "source": [
    "slr_thr_wide <- slr_thr %>%\n",
    "  pivot_wider(names_from = variable, values_from = year)%>%\n",
    "  as.data.frame()%>%\n",
    "    mutate(\n",
    "    max = if_else(is.na(max), 2100, max),\n",
    "    min = 2100,                            # Set constant date for min\n",
    "    mean_segment = if_else(is.na(mean), 2100, mean)\n",
    "  )\n",
    "slr_thr_wide"
   ]
  },
  {
   "cell_type": "code",
   "execution_count": 195,
   "id": "5499f4da",
   "metadata": {},
   "outputs": [],
   "source": [
    "# To control plotting order, the factor column threshold_f with the threshold values as levels is defined\n",
    "slr_thr_wide$threshold_f <- factor(slr_thr_wide$threshold, levels = c(\"1.0\", \"0.8\", \"0.6\", \"0.5\"))\n",
    "\n",
    "# Add numeric offset for plotting\n",
    "slr_thr_wide <- slr_thr_wide%>%\n",
    "  group_by(threshold_f) %>%\n",
    "  mutate(threshold_offset = as.numeric(factor(rcp, levels = unique(rcp))))%>%\n",
    "  ungroup()"
   ]
  },
  {
   "cell_type": "code",
   "execution_count": 196,
   "id": "9fb4dcc2",
   "metadata": {},
   "outputs": [
    {
     "data": {
      "text/html": [
       "<table class=\"dataframe\">\n",
       "<caption>A tibble: 7 × 8</caption>\n",
       "<thead>\n",
       "\t<tr><th scope=col>rcp</th><th scope=col>threshold</th><th scope=col>mean</th><th scope=col>max</th><th scope=col>min</th><th scope=col>mean_segment</th><th scope=col>threshold_f</th><th scope=col>threshold_offset</th></tr>\n",
       "\t<tr><th scope=col>&lt;chr&gt;</th><th scope=col>&lt;chr&gt;</th><th scope=col>&lt;dbl&gt;</th><th scope=col>&lt;dbl&gt;</th><th scope=col>&lt;dbl&gt;</th><th scope=col>&lt;dbl&gt;</th><th scope=col>&lt;fct&gt;</th><th scope=col>&lt;dbl&gt;</th></tr>\n",
       "</thead>\n",
       "<tbody>\n",
       "\t<tr><td>85</td><td>0.5</td><td>2074</td><td>2058</td><td>2100</td><td>2074</td><td>0.5</td><td>1</td></tr>\n",
       "\t<tr><td>45</td><td>0.5</td><td>2090</td><td>2066</td><td>2100</td><td>2090</td><td>0.5</td><td>2</td></tr>\n",
       "\t<tr><td>85</td><td>0.6</td><td>2083</td><td>2066</td><td>2100</td><td>2083</td><td>0.6</td><td>1</td></tr>\n",
       "\t<tr><td>45</td><td>0.6</td><td>  NA</td><td>2077</td><td>2100</td><td>2100</td><td>0.6</td><td>2</td></tr>\n",
       "\t<tr><td>85</td><td>0.8</td><td>2100</td><td>2079</td><td>2100</td><td>2100</td><td>0.8</td><td>1</td></tr>\n",
       "\t<tr><td>45</td><td>0.8</td><td>  NA</td><td>2098</td><td>2100</td><td>2100</td><td>0.8</td><td>2</td></tr>\n",
       "\t<tr><td>85</td><td>1.0</td><td>  NA</td><td>2091</td><td>2100</td><td>2100</td><td>1.0</td><td>1</td></tr>\n",
       "</tbody>\n",
       "</table>\n"
      ],
      "text/latex": [
       "A tibble: 7 × 8\n",
       "\\begin{tabular}{llllllll}\n",
       " rcp & threshold & mean & max & min & mean\\_segment & threshold\\_f & threshold\\_offset\\\\\n",
       " <chr> & <chr> & <dbl> & <dbl> & <dbl> & <dbl> & <fct> & <dbl>\\\\\n",
       "\\hline\n",
       "\t 85 & 0.5 & 2074 & 2058 & 2100 & 2074 & 0.5 & 1\\\\\n",
       "\t 45 & 0.5 & 2090 & 2066 & 2100 & 2090 & 0.5 & 2\\\\\n",
       "\t 85 & 0.6 & 2083 & 2066 & 2100 & 2083 & 0.6 & 1\\\\\n",
       "\t 45 & 0.6 &   NA & 2077 & 2100 & 2100 & 0.6 & 2\\\\\n",
       "\t 85 & 0.8 & 2100 & 2079 & 2100 & 2100 & 0.8 & 1\\\\\n",
       "\t 45 & 0.8 &   NA & 2098 & 2100 & 2100 & 0.8 & 2\\\\\n",
       "\t 85 & 1.0 &   NA & 2091 & 2100 & 2100 & 1.0 & 1\\\\\n",
       "\\end{tabular}\n"
      ],
      "text/markdown": [
       "\n",
       "A tibble: 7 × 8\n",
       "\n",
       "| rcp &lt;chr&gt; | threshold &lt;chr&gt; | mean &lt;dbl&gt; | max &lt;dbl&gt; | min &lt;dbl&gt; | mean_segment &lt;dbl&gt; | threshold_f &lt;fct&gt; | threshold_offset &lt;dbl&gt; |\n",
       "|---|---|---|---|---|---|---|---|\n",
       "| 85 | 0.5 | 2074 | 2058 | 2100 | 2074 | 0.5 | 1 |\n",
       "| 45 | 0.5 | 2090 | 2066 | 2100 | 2090 | 0.5 | 2 |\n",
       "| 85 | 0.6 | 2083 | 2066 | 2100 | 2083 | 0.6 | 1 |\n",
       "| 45 | 0.6 |   NA | 2077 | 2100 | 2100 | 0.6 | 2 |\n",
       "| 85 | 0.8 | 2100 | 2079 | 2100 | 2100 | 0.8 | 1 |\n",
       "| 45 | 0.8 |   NA | 2098 | 2100 | 2100 | 0.8 | 2 |\n",
       "| 85 | 1.0 |   NA | 2091 | 2100 | 2100 | 1.0 | 1 |\n",
       "\n"
      ],
      "text/plain": [
       "  rcp threshold mean max  min  mean_segment threshold_f threshold_offset\n",
       "1 85  0.5       2074 2058 2100 2074         0.5         1               \n",
       "2 45  0.5       2090 2066 2100 2090         0.5         2               \n",
       "3 85  0.6       2083 2066 2100 2083         0.6         1               \n",
       "4 45  0.6         NA 2077 2100 2100         0.6         2               \n",
       "5 85  0.8       2100 2079 2100 2100         0.8         1               \n",
       "6 45  0.8         NA 2098 2100 2100         0.8         2               \n",
       "7 85  1.0         NA 2091 2100 2100         1.0         1               "
      ]
     },
     "metadata": {},
     "output_type": "display_data"
    }
   ],
   "source": [
    "slr_thr_wide"
   ]
  },
  {
   "cell_type": "code",
   "execution_count": 158,
   "id": "e7f6fdc6",
   "metadata": {},
   "outputs": [],
   "source": [
    "color_palette <- c( \"#444991\",\"#FF0000\")\n",
    "palette_rcp <- c('45' = '#444991', '85' = '#FF0000')"
   ]
  },
  {
   "cell_type": "code",
   "execution_count": 205,
   "id": "6533d686",
   "metadata": {},
   "outputs": [],
   "source": [
    "slr_thresholds <- ggplot() + \n",
    " \n",
    "  geom_segment(data = slr_thr_wide,\n",
    "  mapping = aes(x = mean_segment,  xend = max,\n",
    "         y = threshold_offset, \n",
    "         yend = threshold_offset, color = factor(rcp)), \n",
    "    size = 7, alpha = 0.4\n",
    "  ) +\n",
    " # opaque segment marking central estimate\n",
    "  geom_segment(\n",
    "  data = slr_thr_wide,\n",
    "  mapping = aes(\n",
    "    x = mean_segment - 0.4, \n",
    "    xend = mean, \n",
    "    y = threshold_offset, \n",
    "    yend = threshold_offset,\n",
    "    color = factor(rcp)\n",
    "  ),\n",
    "  size = 7\n",
    ")+\n",
    "  scale_x_continuous(\n",
    "    limits = c(2040, 2100),\n",
    "    breaks = seq(2040, 2100, by = 10),\n",
    "    labels = seq(2040, 2100, by = 10)\n",
    "  ) +\n",
    "  \n",
    "  #scale_fill_manual(values = color_palette) +\n",
    "  scale_color_manual(values = color_palette) +\n",
    "  labs(\n",
    "    fill = \"RCP\",\n",
    "    color = \"RCP\",\n",
    "    title = NULL,\n",
    "    x = NULL,\n",
    "    y = \"SLR bandwidths [m]\",\n",
    "    subtitle = NULL\n",
    "  ) +\n",
    "  facet_grid2(threshold_f ~ ., switch = \"y\", scales = \"free_y\")+#, space = \"free\") +\n",
    "  theme_bw() +\n",
    "  theme(\n",
    "    strip.text.y = element_text(size = 20),\n",
    "    strip.background = element_rect(fill = NA, colour = \"black\"),\n",
    "    panel.grid = element_blank(),\n",
    "    #axis.text.x = element_text(margin = unit(c(0.3, 0.3, 0.3, 0.3), \"cm\")),\n",
    "    axis.ticks.x = element_blank(),\n",
    "    axis.ticks.y = element_blank(),\n",
    "    legend.background = element_rect(color = \"white\", fill = \"white\"),\n",
    "    legend.position = \"bottom\",\n",
    "    legend.text = element_text(size = 16),\n",
    "    legend.key.width = unit(2, \"cm\"),\n",
    "    legend.key.size = unit(0.5, \"cm\"),\n",
    "    plot.title = element_text(size = 25, face = \"bold\"),\n",
    "    plot.subtitle = element_text(size = 23, face = \"italic\"),\n",
    "    plot.caption = element_text(size = 17),\n",
    "    axis.title.y = element_text(hjust = 0.5, size = 20),\n",
    "    axis.text.x = element_text(angle = 45, hjust = 1, size = 20),\n",
    "    axis.text.y = element_blank()\n",
    "  ) +\n",
    "  scale_y_continuous(expand = expansion(mult = c(0.5, 0.5)))"
   ]
  },
  {
   "cell_type": "code",
   "execution_count": 206,
   "id": "d570377c",
   "metadata": {},
   "outputs": [
    {
     "name": "stderr",
     "output_type": "stream",
     "text": [
      "Warning message:\n",
      "\"\u001b[1m\u001b[22mRemoved 1 row containing missing values or values outside the scale range (`geom_segment()`).\"\n",
      "Warning message:\n",
      "\"\u001b[1m\u001b[22mRemoved 1 row containing missing values or values outside the scale range (`geom_segment()`).\"\n",
      "Warning message:\n",
      "\"\u001b[1m\u001b[22mRemoved 1 row containing missing values or values outside the scale range (`geom_segment()`).\"\n"
     ]
    },
    {
     "data": {
      "image/png": "[encoded data removed]",
      "text/plain": [
       "plot without title"
      ]
     },
     "metadata": {
      "image/png": {
       "height": 300,
       "width": 960
      }
     },
     "output_type": "display_data"
    }
   ],
   "source": [
    "options(repr.plot.width = 16, repr.plot.height = 5)\n",
    "print(slr_thresholds)"
   ]
  },
  {
   "cell_type": "code",
   "execution_count": null,
   "id": "3c037cff",
   "metadata": {},
   "outputs": [],
   "source": []
  }
 ],
 "metadata": {
  "kernelspec": {
   "display_name": "R",
   "language": "R",
   "name": "ir"
  },
  "language_info": {
   "codemirror_mode": "r",
   "file_extension": ".r",
   "mimetype": "text/x-r-source",
   "name": "R",
   "pygments_lexer": "r",
   "version": "4.2.2"
  }
 },
 "nbformat": 4,
 "nbformat_minor": 5
}
