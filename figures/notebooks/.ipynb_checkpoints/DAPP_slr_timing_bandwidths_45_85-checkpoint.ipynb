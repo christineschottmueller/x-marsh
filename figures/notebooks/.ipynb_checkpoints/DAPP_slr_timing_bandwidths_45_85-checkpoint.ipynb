{
 "cells": [
  {
   "cell_type": "code",
   "execution_count": 14,
   "id": "62d1565f",
   "metadata": {},
   "outputs": [
    {
     "name": "stderr",
     "output_type": "stream",
     "text": [
      "Warning message:\n",
      "\"Paket 'purrr' wurde unter R Version 4.2.3 erstellt\"\n",
      "\n",
      "Attache Paket: 'purrr'\n",
      "\n",
      "\n",
      "Das folgende Objekt ist maskiert 'package:data.table':\n",
      "\n",
      "    transpose\n",
      "\n",
      "\n",
      "Das folgende Objekt ist maskiert 'package:scales':\n",
      "\n",
      "    discard\n",
      "\n",
      "\n"
     ]
    }
   ],
   "source": [
    "library(readxl)\n",
    "library(dplyr)\n",
    "library(ggplot2)\n",
    "library(ggh4x) # for facet_grid2() and strip_themed()\n",
    "library(scales) # for percent()\n",
    "library(ggtext)    # for strip_themed (theme strip customization)\n",
    "library(grid)      # for unit()\n",
    "library(tidyr) \n",
    "library(reshape2)\n",
    "library(data.table)\n",
    "library(purrr) # for looping over multiple values and combining the results into one tidy data frame"
   ]
  },
  {
   "cell_type": "markdown",
   "id": "325b74f5",
   "metadata": {},
   "source": [
    "## Timing bandwidths of Sea Level Rise Thresholds\n",
    "As a key driver influencing the emergence of policy thresholds in our marsh accretion model, sea level rise plays a crucial role in shaping adaptation strategies. The information on a critical sea level threshold triggering a policy tipping point, combined with the timing of such a threshold, provides essential insights for adaptation decision-making. We build on the framework proposed by Slangen et al. (2022), using timing bandwidths of sea level rise thresholds to guide decision-making. "
   ]
  },
  {
   "cell_type": "markdown",
   "id": "3ff17a74",
   "metadata": {},
   "source": [
    "### Load plotting data\n",
    "\n",
    "\n",
    "**Plotting data for the sea level ranges**: Raw data with pre-plot-processing performed in this notebook."
   ]
  },
  {
   "cell_type": "code",
   "execution_count": 3,
   "id": "dcdd146c",
   "metadata": {},
   "outputs": [],
   "source": [
    "slr_ranges <- read.table('../data/figure_3_data/regional_slr_ar5.txt', sep = '\\t', header = TRUE)[, 1:7]\n",
    "slr_ranges_df = as.data.table(slr_ranges)"
   ]
  },
  {
   "cell_type": "markdown",
   "id": "a182a5e2",
   "metadata": {},
   "source": [
    "#### Figure 6 - middle\n"
   ]
  },
  {
   "cell_type": "markdown",
   "id": "1f8b7b89",
   "metadata": {},
   "source": [
    "Converting the data table to long format with columns ``year``, ``variable`` indicating the concentration pathway (RCP) and the the choice of lower, central or upper estimate within the sea level rise uncertainty envelope, and the corresponding ``value``. "
   ]
  },
  {
   "cell_type": "code",
   "execution_count": 53,
   "id": "577250a3",
   "metadata": {},
   "outputs": [],
   "source": [
    "melted = melt(slr_ranges_df, id.vars = \"year\")\n",
    "slr_long=data.table(melted)\n",
    "slr_long$year <- \tas.Date(paste0(slr_long$year, \"-01-01\"))"
   ]
  },
  {
   "cell_type": "code",
   "execution_count": 68,
   "id": "20413098",
   "metadata": {},
   "outputs": [],
   "source": [
    "# Set threshold values\n",
    "threshold_vals <- c(0.5, 0.6, 0.8, 1.0)\n",
    "\n",
    "slr_thr <- map_dfr(threshold_vals, function(thr) {\n",
    "  slr_long %>%\n",
    "    filter(value >= thr) %>%\n",
    "    group_by(variable) %>%\n",
    "    slice_min(order_by = value, with_ties = FALSE) %>%\n",
    "    ungroup() %>%\n",
    "    separate(variable, into = c(\"variable\", \"rcp\"), sep = \"_\", remove = FALSE) %>%\n",
    "    mutate(threshold = thr)%>%\n",
    "    select(year, variable, rcp, threshold)\n",
    "})"
   ]
  },
  {
   "cell_type": "code",
   "execution_count": 69,
   "id": "ff326297",
   "metadata": {
    "scrolled": true
   },
   "outputs": [
    {
     "data": {
      "text/html": [
       "<table class=\"dataframe\">\n",
       "<caption>A tibble: 11 × 4</caption>\n",
       "<thead>\n",
       "\t<tr><th scope=col>year</th><th scope=col>variable</th><th scope=col>rcp</th><th scope=col>threshold</th></tr>\n",
       "\t<tr><th scope=col>&lt;date&gt;</th><th scope=col>&lt;chr&gt;</th><th scope=col>&lt;chr&gt;</th><th scope=col>&lt;dbl&gt;</th></tr>\n",
       "</thead>\n",
       "<tbody>\n",
       "\t<tr><td>2074-01-01</td><td>mean</td><td>85</td><td>0.5</td></tr>\n",
       "\t<tr><td>2058-01-01</td><td>max </td><td>85</td><td>0.5</td></tr>\n",
       "\t<tr><td>2090-01-01</td><td>mean</td><td>45</td><td>0.5</td></tr>\n",
       "\t<tr><td>2066-01-01</td><td>max </td><td>45</td><td>0.5</td></tr>\n",
       "\t<tr><td>2083-01-01</td><td>mean</td><td>85</td><td>0.6</td></tr>\n",
       "\t<tr><td>2066-01-01</td><td>max </td><td>85</td><td>0.6</td></tr>\n",
       "\t<tr><td>2077-01-01</td><td>max </td><td>45</td><td>0.6</td></tr>\n",
       "\t<tr><td>2100-01-01</td><td>mean</td><td>85</td><td>0.8</td></tr>\n",
       "\t<tr><td>2079-01-01</td><td>max </td><td>85</td><td>0.8</td></tr>\n",
       "\t<tr><td>2098-01-01</td><td>max </td><td>45</td><td>0.8</td></tr>\n",
       "\t<tr><td>2091-01-01</td><td>max </td><td>85</td><td>1.0</td></tr>\n",
       "</tbody>\n",
       "</table>\n"
      ],
      "text/latex": [
       "A tibble: 11 × 4\n",
       "\\begin{tabular}{llll}\n",
       " year & variable & rcp & threshold\\\\\n",
       " <date> & <chr> & <chr> & <dbl>\\\\\n",
       "\\hline\n",
       "\t 2074-01-01 & mean & 85 & 0.5\\\\\n",
       "\t 2058-01-01 & max  & 85 & 0.5\\\\\n",
       "\t 2090-01-01 & mean & 45 & 0.5\\\\\n",
       "\t 2066-01-01 & max  & 45 & 0.5\\\\\n",
       "\t 2083-01-01 & mean & 85 & 0.6\\\\\n",
       "\t 2066-01-01 & max  & 85 & 0.6\\\\\n",
       "\t 2077-01-01 & max  & 45 & 0.6\\\\\n",
       "\t 2100-01-01 & mean & 85 & 0.8\\\\\n",
       "\t 2079-01-01 & max  & 85 & 0.8\\\\\n",
       "\t 2098-01-01 & max  & 45 & 0.8\\\\\n",
       "\t 2091-01-01 & max  & 85 & 1.0\\\\\n",
       "\\end{tabular}\n"
      ],
      "text/markdown": [
       "\n",
       "A tibble: 11 × 4\n",
       "\n",
       "| year &lt;date&gt; | variable &lt;chr&gt; | rcp &lt;chr&gt; | threshold &lt;dbl&gt; |\n",
       "|---|---|---|---|\n",
       "| 2074-01-01 | mean | 85 | 0.5 |\n",
       "| 2058-01-01 | max  | 85 | 0.5 |\n",
       "| 2090-01-01 | mean | 45 | 0.5 |\n",
       "| 2066-01-01 | max  | 45 | 0.5 |\n",
       "| 2083-01-01 | mean | 85 | 0.6 |\n",
       "| 2066-01-01 | max  | 85 | 0.6 |\n",
       "| 2077-01-01 | max  | 45 | 0.6 |\n",
       "| 2100-01-01 | mean | 85 | 0.8 |\n",
       "| 2079-01-01 | max  | 85 | 0.8 |\n",
       "| 2098-01-01 | max  | 45 | 0.8 |\n",
       "| 2091-01-01 | max  | 85 | 1.0 |\n",
       "\n"
      ],
      "text/plain": [
       "   year       variable rcp threshold\n",
       "1  2074-01-01 mean     85  0.5      \n",
       "2  2058-01-01 max      85  0.5      \n",
       "3  2090-01-01 mean     45  0.5      \n",
       "4  2066-01-01 max      45  0.5      \n",
       "5  2083-01-01 mean     85  0.6      \n",
       "6  2066-01-01 max      85  0.6      \n",
       "7  2077-01-01 max      45  0.6      \n",
       "8  2100-01-01 mean     85  0.8      \n",
       "9  2079-01-01 max      85  0.8      \n",
       "10 2098-01-01 max      45  0.8      \n",
       "11 2091-01-01 max      85  1.0      "
      ]
     },
     "metadata": {},
     "output_type": "display_data"
    }
   ],
   "source": [
    "slr_thr"
   ]
  },
  {
   "cell_type": "code",
   "execution_count": 70,
   "id": "039178e1",
   "metadata": {},
   "outputs": [
    {
     "data": {
      "text/html": [
       "<table class=\"dataframe\">\n",
       "<caption>A data.frame: 7 × 6</caption>\n",
       "<thead>\n",
       "\t<tr><th scope=col>rcp</th><th scope=col>threshold</th><th scope=col>mean</th><th scope=col>max</th><th scope=col>min</th><th scope=col>mean_segment</th></tr>\n",
       "\t<tr><th scope=col>&lt;chr&gt;</th><th scope=col>&lt;dbl&gt;</th><th scope=col>&lt;date&gt;</th><th scope=col>&lt;date&gt;</th><th scope=col>&lt;date&gt;</th><th scope=col>&lt;date&gt;</th></tr>\n",
       "</thead>\n",
       "<tbody>\n",
       "\t<tr><td>85</td><td>0.5</td><td>2074-01-01</td><td>2058-01-01</td><td>2100-01-01</td><td>2074-01-01</td></tr>\n",
       "\t<tr><td>45</td><td>0.5</td><td>2090-01-01</td><td>2066-01-01</td><td>2100-01-01</td><td>2090-01-01</td></tr>\n",
       "\t<tr><td>85</td><td>0.6</td><td>2083-01-01</td><td>2066-01-01</td><td>2100-01-01</td><td>2083-01-01</td></tr>\n",
       "\t<tr><td>45</td><td>0.6</td><td>NA</td><td>2077-01-01</td><td>2100-01-01</td><td>2100-01-01</td></tr>\n",
       "\t<tr><td>85</td><td>0.8</td><td>2100-01-01</td><td>2079-01-01</td><td>2100-01-01</td><td>2100-01-01</td></tr>\n",
       "\t<tr><td>45</td><td>0.8</td><td>NA</td><td>2098-01-01</td><td>2100-01-01</td><td>2100-01-01</td></tr>\n",
       "\t<tr><td>85</td><td>1.0</td><td>NA</td><td>2091-01-01</td><td>2100-01-01</td><td>2100-01-01</td></tr>\n",
       "</tbody>\n",
       "</table>\n"
      ],
      "text/latex": [
       "A data.frame: 7 × 6\n",
       "\\begin{tabular}{llllll}\n",
       " rcp & threshold & mean & max & min & mean\\_segment\\\\\n",
       " <chr> & <dbl> & <date> & <date> & <date> & <date>\\\\\n",
       "\\hline\n",
       "\t 85 & 0.5 & 2074-01-01 & 2058-01-01 & 2100-01-01 & 2074-01-01\\\\\n",
       "\t 45 & 0.5 & 2090-01-01 & 2066-01-01 & 2100-01-01 & 2090-01-01\\\\\n",
       "\t 85 & 0.6 & 2083-01-01 & 2066-01-01 & 2100-01-01 & 2083-01-01\\\\\n",
       "\t 45 & 0.6 & NA & 2077-01-01 & 2100-01-01 & 2100-01-01\\\\\n",
       "\t 85 & 0.8 & 2100-01-01 & 2079-01-01 & 2100-01-01 & 2100-01-01\\\\\n",
       "\t 45 & 0.8 & NA & 2098-01-01 & 2100-01-01 & 2100-01-01\\\\\n",
       "\t 85 & 1.0 & NA & 2091-01-01 & 2100-01-01 & 2100-01-01\\\\\n",
       "\\end{tabular}\n"
      ],
      "text/markdown": [
       "\n",
       "A data.frame: 7 × 6\n",
       "\n",
       "| rcp &lt;chr&gt; | threshold &lt;dbl&gt; | mean &lt;date&gt; | max &lt;date&gt; | min &lt;date&gt; | mean_segment &lt;date&gt; |\n",
       "|---|---|---|---|---|---|\n",
       "| 85 | 0.5 | 2074-01-01 | 2058-01-01 | 2100-01-01 | 2074-01-01 |\n",
       "| 45 | 0.5 | 2090-01-01 | 2066-01-01 | 2100-01-01 | 2090-01-01 |\n",
       "| 85 | 0.6 | 2083-01-01 | 2066-01-01 | 2100-01-01 | 2083-01-01 |\n",
       "| 45 | 0.6 | NA | 2077-01-01 | 2100-01-01 | 2100-01-01 |\n",
       "| 85 | 0.8 | 2100-01-01 | 2079-01-01 | 2100-01-01 | 2100-01-01 |\n",
       "| 45 | 0.8 | NA | 2098-01-01 | 2100-01-01 | 2100-01-01 |\n",
       "| 85 | 1.0 | NA | 2091-01-01 | 2100-01-01 | 2100-01-01 |\n",
       "\n"
      ],
      "text/plain": [
       "  rcp threshold mean       max        min        mean_segment\n",
       "1 85  0.5       2074-01-01 2058-01-01 2100-01-01 2074-01-01  \n",
       "2 45  0.5       2090-01-01 2066-01-01 2100-01-01 2090-01-01  \n",
       "3 85  0.6       2083-01-01 2066-01-01 2100-01-01 2083-01-01  \n",
       "4 45  0.6       <NA>       2077-01-01 2100-01-01 2100-01-01  \n",
       "5 85  0.8       2100-01-01 2079-01-01 2100-01-01 2100-01-01  \n",
       "6 45  0.8       <NA>       2098-01-01 2100-01-01 2100-01-01  \n",
       "7 85  1.0       <NA>       2091-01-01 2100-01-01 2100-01-01  "
      ]
     },
     "metadata": {},
     "output_type": "display_data"
    }
   ],
   "source": [
    "slr_thr_wide <- slr_thr %>%\n",
    "  pivot_wider(names_from = variable, values_from = year)%>%\n",
    "  as.data.frame()%>%\n",
    "    mutate(\n",
    "    max = if_else(is.na(max), as.Date(\"2100-01-01\"), max),\n",
    "    min = as.Date(\"2100-01-01\"),                            # Set constant date for min\n",
    "    mean_segment = if_else(is.na(mean), as.Date(\"2100-01-01\"), mean)\n",
    "  )\n",
    "slr_thr_wide"
   ]
  },
  {
   "cell_type": "code",
   "execution_count": 74,
   "id": "68a48a79",
   "metadata": {},
   "outputs": [],
   "source": [
    "# Step 1: Create offset value for controling vertical spacing for plotting\n",
    "offset <- 0.1\n",
    "\n",
    "# Step 2: To control plotting order, the factor column threshold_f with the threshold values as levels is defined\n",
    "slr_thr_wide$threshold_f <- factor(final$threshold, levels = c(\"1.0\", \"0.8\", \"0.6\", \"0.5\"))\n",
    "\n",
    "# Step 3: Add numeric offset for plotting\n",
    "slr_thr_wide <- slr_thr_wide%>%\n",
    "  group_by(threshold_f) %>%\n",
    "  mutate(threshold_offset = as.numeric(factor(rcp, levels = unique(rcp))))%>%\n",
    "  ungroup()"
   ]
  },
  {
   "cell_type": "code",
   "execution_count": 75,
   "id": "988a47f1",
   "metadata": {},
   "outputs": [
    {
     "data": {
      "text/html": [
       "<table class=\"dataframe\">\n",
       "<caption>A tibble: 7 × 8</caption>\n",
       "<thead>\n",
       "\t<tr><th scope=col>rcp</th><th scope=col>threshold</th><th scope=col>mean</th><th scope=col>max</th><th scope=col>min</th><th scope=col>mean_segment</th><th scope=col>threshold_f</th><th scope=col>threshold_offset</th></tr>\n",
       "\t<tr><th scope=col>&lt;chr&gt;</th><th scope=col>&lt;dbl&gt;</th><th scope=col>&lt;date&gt;</th><th scope=col>&lt;date&gt;</th><th scope=col>&lt;date&gt;</th><th scope=col>&lt;date&gt;</th><th scope=col>&lt;fct&gt;</th><th scope=col>&lt;dbl&gt;</th></tr>\n",
       "</thead>\n",
       "<tbody>\n",
       "\t<tr><td>85</td><td>0.5</td><td>2074-01-01</td><td>2058-01-01</td><td>2100-01-01</td><td>2074-01-01</td><td>0.5</td><td>1</td></tr>\n",
       "\t<tr><td>45</td><td>0.5</td><td>2090-01-01</td><td>2066-01-01</td><td>2100-01-01</td><td>2090-01-01</td><td>0.5</td><td>2</td></tr>\n",
       "\t<tr><td>85</td><td>0.6</td><td>2083-01-01</td><td>2066-01-01</td><td>2100-01-01</td><td>2083-01-01</td><td>0.6</td><td>1</td></tr>\n",
       "\t<tr><td>45</td><td>0.6</td><td>NA</td><td>2077-01-01</td><td>2100-01-01</td><td>2100-01-01</td><td>0.6</td><td>2</td></tr>\n",
       "\t<tr><td>85</td><td>0.8</td><td>2100-01-01</td><td>2079-01-01</td><td>2100-01-01</td><td>2100-01-01</td><td>0.8</td><td>1</td></tr>\n",
       "\t<tr><td>45</td><td>0.8</td><td>NA</td><td>2098-01-01</td><td>2100-01-01</td><td>2100-01-01</td><td>0.8</td><td>2</td></tr>\n",
       "\t<tr><td>85</td><td>1.0</td><td>NA</td><td>2091-01-01</td><td>2100-01-01</td><td>2100-01-01</td><td>NA </td><td>1</td></tr>\n",
       "</tbody>\n",
       "</table>\n"
      ],
      "text/latex": [
       "A tibble: 7 × 8\n",
       "\\begin{tabular}{llllllll}\n",
       " rcp & threshold & mean & max & min & mean\\_segment & threshold\\_f & threshold\\_offset\\\\\n",
       " <chr> & <dbl> & <date> & <date> & <date> & <date> & <fct> & <dbl>\\\\\n",
       "\\hline\n",
       "\t 85 & 0.5 & 2074-01-01 & 2058-01-01 & 2100-01-01 & 2074-01-01 & 0.5 & 1\\\\\n",
       "\t 45 & 0.5 & 2090-01-01 & 2066-01-01 & 2100-01-01 & 2090-01-01 & 0.5 & 2\\\\\n",
       "\t 85 & 0.6 & 2083-01-01 & 2066-01-01 & 2100-01-01 & 2083-01-01 & 0.6 & 1\\\\\n",
       "\t 45 & 0.6 & NA & 2077-01-01 & 2100-01-01 & 2100-01-01 & 0.6 & 2\\\\\n",
       "\t 85 & 0.8 & 2100-01-01 & 2079-01-01 & 2100-01-01 & 2100-01-01 & 0.8 & 1\\\\\n",
       "\t 45 & 0.8 & NA & 2098-01-01 & 2100-01-01 & 2100-01-01 & 0.8 & 2\\\\\n",
       "\t 85 & 1.0 & NA & 2091-01-01 & 2100-01-01 & 2100-01-01 & NA  & 1\\\\\n",
       "\\end{tabular}\n"
      ],
      "text/markdown": [
       "\n",
       "A tibble: 7 × 8\n",
       "\n",
       "| rcp &lt;chr&gt; | threshold &lt;dbl&gt; | mean &lt;date&gt; | max &lt;date&gt; | min &lt;date&gt; | mean_segment &lt;date&gt; | threshold_f &lt;fct&gt; | threshold_offset &lt;dbl&gt; |\n",
       "|---|---|---|---|---|---|---|---|\n",
       "| 85 | 0.5 | 2074-01-01 | 2058-01-01 | 2100-01-01 | 2074-01-01 | 0.5 | 1 |\n",
       "| 45 | 0.5 | 2090-01-01 | 2066-01-01 | 2100-01-01 | 2090-01-01 | 0.5 | 2 |\n",
       "| 85 | 0.6 | 2083-01-01 | 2066-01-01 | 2100-01-01 | 2083-01-01 | 0.6 | 1 |\n",
       "| 45 | 0.6 | NA | 2077-01-01 | 2100-01-01 | 2100-01-01 | 0.6 | 2 |\n",
       "| 85 | 0.8 | 2100-01-01 | 2079-01-01 | 2100-01-01 | 2100-01-01 | 0.8 | 1 |\n",
       "| 45 | 0.8 | NA | 2098-01-01 | 2100-01-01 | 2100-01-01 | 0.8 | 2 |\n",
       "| 85 | 1.0 | NA | 2091-01-01 | 2100-01-01 | 2100-01-01 | NA  | 1 |\n",
       "\n"
      ],
      "text/plain": [
       "  rcp threshold mean       max        min        mean_segment threshold_f\n",
       "1 85  0.5       2074-01-01 2058-01-01 2100-01-01 2074-01-01   0.5        \n",
       "2 45  0.5       2090-01-01 2066-01-01 2100-01-01 2090-01-01   0.5        \n",
       "3 85  0.6       2083-01-01 2066-01-01 2100-01-01 2083-01-01   0.6        \n",
       "4 45  0.6       <NA>       2077-01-01 2100-01-01 2100-01-01   0.6        \n",
       "5 85  0.8       2100-01-01 2079-01-01 2100-01-01 2100-01-01   0.8        \n",
       "6 45  0.8       <NA>       2098-01-01 2100-01-01 2100-01-01   0.8        \n",
       "7 85  1.0       <NA>       2091-01-01 2100-01-01 2100-01-01   NA         \n",
       "  threshold_offset\n",
       "1 1               \n",
       "2 2               \n",
       "3 1               \n",
       "4 2               \n",
       "5 1               \n",
       "6 2               \n",
       "7 1               "
      ]
     },
     "metadata": {},
     "output_type": "display_data"
    }
   ],
   "source": [
    "slr_thr_wide"
   ]
  },
  {
   "cell_type": "code",
   "execution_count": 76,
   "id": "d2ba1255",
   "metadata": {},
   "outputs": [],
   "source": [
    "color_palette <- c( \"#444991\",\"#FF0000\")\n",
    "\n",
    "palette_rcp <- c('45' = '#444991', '85' = '#FF0000')"
   ]
  },
  {
   "cell_type": "code",
   "execution_count": 77,
   "id": "ce91a068",
   "metadata": {},
   "outputs": [],
   "source": [
    "\n",
    "final$heigths_max <- c( 0.1,  0.024,  0.1, 0.024,  0.1, 0.024, 0.1)\n",
    "final$heigths_min <- c( -0.048,  0.024, -0.048,  0.024 , -0.048,  0.024, -0.048 )\n",
    "\n",
    "final$threshold_char<-c( \"0.5\",  \"0.5\",   \"0.6\", \"0.6\", \"0.8\", \"0.8\",  \"1.0\")\n",
    "\n",
    "final$threshold <- as.character(final$threshold)\n",
    "\n",
    "# Convert to factor with specific levels, ensuring \"1.00\" is included\n",
    "final$threshold_f <- factor(final$threshold_char, levels = c(\"1.0\", \"0.8\", \"0.6\", \"0.5\"))\n",
    "\n",
    "\n",
    "final <- final %>%\n",
    "  group_by(threshold) %>%\n",
    "  mutate(threshold_offset = as.numeric(factor(rcp, levels = unique(rcp))))\n",
    "\n",
    "\n",
    "color_palette <- c( \"#444991\",\"#FF0000\")\n",
    "\n",
    "palette_rcp <- c('45' = '#444991', '85' = '#FF0000')"
   ]
  },
  {
   "cell_type": "code",
   "execution_count": null,
   "id": "84c02cf5",
   "metadata": {},
   "outputs": [],
   "source": []
  },
  {
   "cell_type": "code",
   "execution_count": null,
   "id": "8173441d",
   "metadata": {},
   "outputs": [],
   "source": [
    "slr_thresholds <- ggplot() + \n",
    "  geom_rect(\n",
    "    data = final, mapping = aes(xmin = mean_segment, xmax = max, ymin = -heigths_min,\n",
    "      ymax = heigths_max, fill = factor(rcp)), \n",
    "      alpha = 0.4, color = NA\n",
    "  ) +\n",
    " # opaque segment marking central estimate\n",
    "  geom_segment(\n",
    "  data = final,\n",
    "  mapping = aes(\n",
    "    x = mean_segment, \n",
    "    xend = mean_segment, \n",
    "    y = -heigths_min, \n",
    "    yend = heigths_max,\n",
    "    color = factor(rcp)\n",
    "  ),\n",
    "  size = 2\n",
    ")+\n",
    "  scale_x_date(\n",
    "    limits = as.Date(c('2040-01-01', '2100-01-01')),\n",
    "    date_labels = \"%Y\",\n",
    "    breaks = seq(as.Date(\"2040-01-01\"), as.Date(\"2100-01-01\"), by = \"10 years\")\n",
    "  ) +\n",
    "  scale_fill_manual(values = color_palette) +\n",
    "  scale_color_manual(values = color_palette) +\n",
    "  labs(\n",
    "    fill = \"RCP\",\n",
    "    color = \"RCP\",\n",
    "    title = NULL,\n",
    "    x = NULL,\n",
    "    y = \"SLR bandwidths [m]\",\n",
    "    subtitle = NULL\n",
    "  ) +\n",
    "  facet_grid(threshold_f ~ ., switch = \"y\", scales = \"free\", space = \"free\") +\n",
    "  theme_bw() +\n",
    "  theme(\n",
    "    strip.text.y = element_text(size = 20),\n",
    "    strip.background = element_rect(fill = NA, colour = \"black\"),\n",
    "    panel.grid = element_blank(),\n",
    "    #axis.text.x = element_text(margin = unit(c(0.3, 0.3, 0.3, 0.3), \"cm\")),\n",
    "    axis.ticks.x = element_blank(),\n",
    "    axis.ticks.y = element_blank(),\n",
    "    legend.background = element_rect(color = \"white\", fill = \"white\"),\n",
    "    legend.position = \"bottom\",\n",
    "    legend.text = element_text(size = 16),\n",
    "    legend.key.width = unit(2, \"cm\"),\n",
    "    legend.key.size = unit(0.5, \"cm\"),\n",
    "    plot.title = element_text(size = 25, face = \"bold\"),\n",
    "    plot.subtitle = element_text(size = 23, face = \"italic\"),\n",
    "    plot.caption = element_text(size = 17),\n",
    "    axis.title.y = element_text(hjust = 0.5, size = 20),\n",
    "    axis.text.x = element_text(angle = 45, hjust = 1, size = 20),\n",
    "    axis.text.y = element_blank()\n",
    "  ) +\n",
    "  scale_y_continuous(expand = expansion(mult = c(0.2, 0.2)))\n"
   ]
  },
  {
   "cell_type": "code",
   "execution_count": 78,
   "id": "33dadd5c",
   "metadata": {
    "scrolled": true
   },
   "outputs": [],
   "source": [
    "slr_thresholds <- ggplot() + \n",
    "  geom_rect(\n",
    "    data = final, mapping = aes(xmin = mean_segment, xmax = max, ymin = -heigths_min,\n",
    "      ymax = heigths_max, fill = factor(rcp)), \n",
    "      alpha = 0.4, color = NA\n",
    "            ) +\n",
    "  geom_segment(\n",
    "  data = final,\n",
    "  mapping = aes(\n",
    "    x = mean_segment, \n",
    "    xend = mean_segment, \n",
    "    y = -heigths_min, \n",
    "    yend = heigths_max,\n",
    "    color = factor(rcp)\n",
    "  ),\n",
    "  size = 2\n",
    ")+\n",
    "  scale_x_date(\n",
    "    limits = as.Date(c('2040-01-01', '2100-01-01')),\n",
    "    date_labels = \"%Y\",\n",
    "    breaks = seq(as.Date(\"2040-01-01\"), as.Date(\"2100-01-01\"), by = \"10 years\")\n",
    "  ) +\n",
    "  scale_fill_manual(values = color_palette) +\n",
    "  scale_color_manual(values = color_palette) +\n",
    "  labs(\n",
    "    fill = \"RCP\",\n",
    "    color = \"RCP\",\n",
    "    title = NULL,\n",
    "    x = NULL,\n",
    "    y = \"SLR bandwidths [m]\",\n",
    "    subtitle = NULL\n",
    "  ) +\n",
    "  facet_grid(threshold_f ~ ., switch = \"y\", scales = \"free\", space = \"free\") +\n",
    "  theme_bw() +\n",
    "  theme(\n",
    "    strip.text.y = element_text(size = 20),\n",
    "    strip.background = element_rect(fill = NA, colour = \"black\"),\n",
    "    panel.grid = element_blank(),\n",
    "    #axis.text.x = element_text(margin = unit(c(0.3, 0.3, 0.3, 0.3), \"cm\")),\n",
    "    axis.ticks.x = element_blank(),\n",
    "    axis.ticks.y = element_blank(),\n",
    "    legend.background = element_rect(color = \"white\", fill = \"white\"),\n",
    "    legend.position = \"bottom\",\n",
    "    legend.text = element_text(size = 16),\n",
    "    legend.key.width = unit(2, \"cm\"),\n",
    "    legend.key.size = unit(0.5, \"cm\"),\n",
    "    plot.title = element_text(size = 25, face = \"bold\"),\n",
    "    plot.subtitle = element_text(size = 23, face = \"italic\"),\n",
    "    plot.caption = element_text(size = 17),\n",
    "    axis.title.y = element_text(hjust = 0.5, size = 20),\n",
    "    axis.text.x = element_text(angle = 45, hjust = 1, size = 20),\n",
    "    axis.text.y = element_blank()\n",
    "  ) +\n",
    "  scale_y_continuous(expand = expansion(mult = c(0.2, 0.2)))\n"
   ]
  },
  {
   "cell_type": "code",
   "execution_count": 79,
   "id": "ba91bf54",
   "metadata": {},
   "outputs": [
    {
     "ename": "ERROR",
     "evalue": "\u001b[1m\u001b[33mError\u001b[39m in `geom_rect()`:\u001b[22m\n\u001b[1m\u001b[22m\u001b[33m!\u001b[39m Problem while computing aesthetics.\n\u001b[36mℹ\u001b[39m Error occurred in the 1st layer.\n\u001b[1mCaused by error in `FUN()`:\u001b[22m\n\u001b[33m!\u001b[39m Objekt 'mean_segment' nicht gefunden\n",
     "output_type": "error",
     "traceback": [
      "\u001b[1m\u001b[33mError\u001b[39m in `geom_rect()`:\u001b[22m\n\u001b[1m\u001b[22m\u001b[33m!\u001b[39m Problem while computing aesthetics.\n\u001b[36mℹ\u001b[39m Error occurred in the 1st layer.\n\u001b[1mCaused by error in `FUN()`:\u001b[22m\n\u001b[33m!\u001b[39m Objekt 'mean_segment' nicht gefunden\nTraceback:\n",
      "1. print(slr_thresholds)",
      "2. print.ggplot(slr_thresholds)",
      "3. ggplot_build(x)",
      "4. ggplot_build.ggplot(x)",
      "5. by_layer(function(l, d) l$compute_aesthetics(d, plot), layers, \n .     data, \"computing aesthetics\")",
      "6. try_fetch(for (i in seq_along(data)) {\n .     out[[i]] <- f(l = layers[[i]], d = data[[i]])\n . }, error = function(cnd) {\n .     cli::cli_abort(c(\"Problem while {step}.\", i = \"Error occurred in the {ordinal(i)} layer.\"), \n .         call = layers[[i]]$constructor, parent = cnd)\n . })",
      "7. tryCatch(withCallingHandlers(expr, condition = function(cnd) {\n .     {\n .         .__handler_frame__. <- TRUE\n .         .__setup_frame__. <- frame\n .         if (inherits(cnd, \"message\")) {\n .             except <- c(\"warning\", \"error\")\n .         }\n .         else if (inherits(cnd, \"warning\")) {\n .             except <- \"error\"\n .         }\n .         else {\n .             except <- \"\"\n .         }\n .     }\n .     while (!is_null(cnd)) {\n .         if (inherits(cnd, \"error\")) {\n .             out <- handlers[[1L]](cnd)\n .             if (!inherits(out, \"rlang_zap\")) \n .                 throw(out)\n .         }\n .         inherit <- .subset2(.subset2(cnd, \"rlang\"), \"inherit\")\n .         if (is_false(inherit)) {\n .             return()\n .         }\n .         cnd <- .subset2(cnd, \"parent\")\n .     }\n . }), stackOverflowError = handlers[[1L]])",
      "8. tryCatchList(expr, classes, parentenv, handlers)",
      "9. tryCatchOne(expr, names, parentenv, handlers[[1L]])",
      "10. doTryCatch(return(expr), name, parentenv, handler)",
      "11. withCallingHandlers(expr, condition = function(cnd) {\n  .     {\n  .         .__handler_frame__. <- TRUE\n  .         .__setup_frame__. <- frame\n  .         if (inherits(cnd, \"message\")) {\n  .             except <- c(\"warning\", \"error\")\n  .         }\n  .         else if (inherits(cnd, \"warning\")) {\n  .             except <- \"error\"\n  .         }\n  .         else {\n  .             except <- \"\"\n  .         }\n  .     }\n  .     while (!is_null(cnd)) {\n  .         if (inherits(cnd, \"error\")) {\n  .             out <- handlers[[1L]](cnd)\n  .             if (!inherits(out, \"rlang_zap\")) \n  .                 throw(out)\n  .         }\n  .         inherit <- .subset2(.subset2(cnd, \"rlang\"), \"inherit\")\n  .         if (is_false(inherit)) {\n  .             return()\n  .         }\n  .         cnd <- .subset2(cnd, \"parent\")\n  .     }\n  . })",
      "12. f(l = layers[[i]], d = data[[i]])",
      "13. l$compute_aesthetics(d, plot)",
      "14. compute_aesthetics(..., self = self)",
      "15. lapply(aesthetics, eval_tidy, data = data, env = env)",
      "16. FUN(X[[i]], ...)",
      "17. .handleSimpleError(function (cnd) \n  . {\n  .     {\n  .         .__handler_frame__. <- TRUE\n  .         .__setup_frame__. <- frame\n  .         if (inherits(cnd, \"message\")) {\n  .             except <- c(\"warning\", \"error\")\n  .         }\n  .         else if (inherits(cnd, \"warning\")) {\n  .             except <- \"error\"\n  .         }\n  .         else {\n  .             except <- \"\"\n  .         }\n  .     }\n  .     while (!is_null(cnd)) {\n  .         if (inherits(cnd, \"error\")) {\n  .             out <- handlers[[1L]](cnd)\n  .             if (!inherits(out, \"rlang_zap\")) \n  .                 throw(out)\n  .         }\n  .         inherit <- .subset2(.subset2(cnd, \"rlang\"), \"inherit\")\n  .         if (is_false(inherit)) {\n  .             return()\n  .         }\n  .         cnd <- .subset2(cnd, \"parent\")\n  .     }\n  . }, \"Objekt 'mean_segment' nicht gefunden\", base::quote(FUN(X[[i]], \n  .     ...)))",
      "18. h(simpleError(msg, call))",
      "19. handlers[[1L]](cnd)",
      "20. cli::cli_abort(c(\"Problem while {step}.\", i = \"Error occurred in the {ordinal(i)} layer.\"), \n  .     call = layers[[i]]$constructor, parent = cnd)",
      "21. rlang::abort(message, ..., call = call, use_cli_format = TRUE, \n  .     .frame = .frame)",
      "22. signal_abort(cnd, .file)"
     ]
    }
   ],
   "source": [
    "options(repr.plot.width = 16, repr.plot.height = 5)\n",
    "print(slr_thresholds)"
   ]
  },
  {
   "cell_type": "code",
   "execution_count": null,
   "id": "3c037cff",
   "metadata": {},
   "outputs": [],
   "source": []
  }
 ],
 "metadata": {
  "kernelspec": {
   "display_name": "R",
   "language": "R",
   "name": "ir"
  },
  "language_info": {
   "codemirror_mode": "r",
   "file_extension": ".r",
   "mimetype": "text/x-r-source",
   "name": "R",
   "pygments_lexer": "r",
   "version": "4.2.2"
  }
 },
 "nbformat": 4,
 "nbformat_minor": 5
}
