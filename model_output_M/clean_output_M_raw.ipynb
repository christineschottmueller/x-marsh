{
 "cells": [
  {
   "cell_type": "code",
   "execution_count": 1,
   "id": "68e21012",
   "metadata": {},
   "outputs": [
    {
     "name": "stderr",
     "output_type": "stream",
     "text": [
      "C:\\Users\\cschott\\AppData\\Roaming\\Python\\Python311\\site-packages\\ema_workbench\\em_framework\\evaluators.py:58: UserWarning: ipyparallel not installed - IpyparalleEvaluator not available\n",
      "  warnings.warn(\"ipyparallel not installed - IpyparalleEvaluator not available\")\n"
     ]
    }
   ],
   "source": [
    "from ema_workbench import ema_logging, save_results, load_results\n",
    "import pandas as pd\n",
    "import os"
   ]
  },
  {
   "cell_type": "markdown",
   "id": "233f50fa",
   "metadata": {},
   "source": [
    "The use of a full factorial design for scenario generation, while comprehensive, inevitably results in a subset of parameter combinations that are implausible or infeasible under real-world conditions. To maintain the analytical integrity and interpretability of the results, these non-viable scenarios must be systematically identified and excluded from the dataset."
   ]
  },
  {
   "cell_type": "markdown",
   "id": "7b7dfce5",
   "metadata": {},
   "source": [
    "#### I Exclusion of Cases with High Nourishment Frequency and Volume but Low Dry Bulk Density\n",
    "\n",
    "Sand nourishments are known to elevate the concentration of suspended mineral sediments in the water column, thereby promoting mineral sediment deposition. In scenarios characterized by frequent nourishment interventions and high volumes of sand input, it is implausible for the resulting sediment deposits to exhibit low dry bulk density values $\\rho=400$. Such combinations likely reflect unrealistic or inconsistent model behavior. Therefore, cases exhibiting both high nourishment frequency and quantity $C_{\\mathcal{N}}$, coupled with low dry bulk density, are excluded from the analysis to ensure the physical plausibility and integrity of the modeled outcomes.\n",
    "\n",
    "The following combinations of parameters are excluded due to their physical implausibility, as described above:\n",
    "\n",
    "| N. concentration           | N. frequency             | Dry bulk density          |\n",
    "|:----------------------------:|:-----------------------------:|:-------------------------:|\n",
    "| 0.3                         | 1                              | 400                       |\n",
    "| 0.5                         | 1                              | 400                       |\n",
    "| 0.5                         | 5                              | 400                       |"
   ]
  },
  {
   "cell_type": "markdown",
   "id": "e606308b",
   "metadata": {},
   "source": [
    "#### II Exclusion of Cases with Implausible Sediment Deposition Fractions and Vegetation States\n",
    "\n",
    "The parameter $f_d$ represents the fraction of sediment retained and reflects both vegetation-mediated trapping and management interventions. On mudflats ($E_0=0.4$), high values of $f_d \\in (0.6, 0.8)$ imply strong sediment trapping, which is unrealistic for unvegetated or sparsely vegetated areas, and are therefore excluded. In the pioneer zone ($E_0=0.7$), extreme values ($f_d=0.2$ and $f_d=0.8$) are removed, as they do not plausibly reflect vegetation structure under either conservation or restoration conditions.\n",
    "\n",
    "For the low marsh ($E_0=1.2$) and high marsh ($E_0=1.7$), values of $f_d=0.4$, $f_d=0.4$, and $f_d=0.8$ are retained, corresponding to management strategies such as no restoration, conservation, and active restoration in the low marsh, and excessive grazing, grazing, and no grazing in the high marsh. In both zones, $f_d=0.2$ is excluded due to incompatibility with the expected sediment trapping under vegetated conditions. These constraints help ensure the physical plausibility of modeled scenarios across the elevation gradient.\n",
    "\n",
    "The following combinations of parameters are excluded due to their physical implausibility, as described above:\n",
    "| Elevation                    | Depositing fraction           |\n",
    "|:----------------------------:|:-----------------------------:|\n",
    "| 0.4                          | 0.6, 0.8                      | \n",
    "| 0.7                          | 0.2, 0.8                      | \n",
    "| 1.2                          | 0.2                           | \n",
    "| 1.7                          | 0.2                           | "
   ]
  },
  {
   "cell_type": "markdown",
   "id": "57ffc173",
   "metadata": {},
   "source": [
    "####  III Exclusion of Cases with Nourishment Frequency but No Input\n",
    "\n",
    "Cases with a non-zero nourishment frequency but zero nourishment amount ($C_{\\mathcal{N}} = 0$) are excluded, as they imply sediment input events without actual material added—an implausible scenario.\n",
    "\n",
    "The following combinations of parameters are excluded due to their physical implausibility, as described above:\n",
    "| N. concentration             | N. frequency          |\n",
    "|:----------------------------:|:-----------------------------:|\n",
    "| 0.0                          | 5                    | \n",
    "| 0.0                          |10                     | \n"
   ]
  },
  {
   "cell_type": "markdown",
   "id": "abcc50ab",
   "metadata": {},
   "source": [
    "#### 1. Define filter code"
   ]
  },
  {
   "cell_type": "code",
   "execution_count": 2,
   "id": "0cd94ba7",
   "metadata": {},
   "outputs": [],
   "source": [
    "def apply_filters(df):\n",
    "    filter_I = [\n",
    "        (0.3, 1, 400),\n",
    "        (0.5, 1, 400),\n",
    "        (0.5, 5, 400),\n",
    "    ]\n",
    "    mask_I = df[['c_flood_nourishment', 'nourishment_frequency', 'rho_deposit']].apply(tuple, axis=1).isin(filter_I)\n",
    "    df_I = df[~mask_I]\n",
    "\n",
    "    filter_II = [\n",
    "        (0.4, 0.6),\n",
    "        (0.4, 0.8),\n",
    "        (0.7, 0.2),\n",
    "        (0.7, 0.8),\n",
    "        (1.2, 0.2),\n",
    "        (1.7, 0.2),\n",
    "    ]\n",
    "    mask_II = df_I[['z_init', 'fd']].apply(tuple, axis=1).isin(filter_II)\n",
    "    df_II = df_I[~mask_II]\n",
    "\n",
    "    filter_III = [\n",
    "        (0.0, 10),\n",
    "        (0.0, 5),\n",
    "    ]\n",
    "    mask_III = df_II[['c_flood_nourishment', 'nourishment_frequency']].apply(tuple, axis=1).isin(filter_III)\n",
    "    return df_II[~mask_III]"
   ]
  },
  {
   "cell_type": "markdown",
   "id": "281b1727",
   "metadata": {},
   "source": [
    "#### 2. Load datasets for East-Frisian focus area S15"
   ]
  },
  {
   "cell_type": "code",
   "execution_count": 3,
   "id": "75072a44",
   "metadata": {},
   "outputs": [],
   "source": [
    "# RCP 8.5 dataset\n",
    "experiments_1585, outcomes_1585=load_results('model_output_S15_raw/S15_rcp85_full_factorial.tar.gz')\n",
    "outcomes_1585 = pd.DataFrame(outcomes_1585)\n",
    "out_S15_85_raw=pd.concat([experiments_1585, outcomes_1585], axis = 1)\n",
    "# RCP 4.5 dataset\n",
    "experiments_1545, outcomes_1545=load_results('model_output_S15_raw/S15_rcp45_full_factorial.tar.gz')\n",
    "outcomes_1545 = pd.DataFrame(outcomes_1545)\n",
    "out_S15_45_raw=pd.concat([experiments_1545, outcomes_1545], axis = 1)\n",
    "# RCP 2.6 dataset\n",
    "experiments_1526, outcomes_1526=load_results('model_output_S15_raw/S15_rcp26_full_factorial.tar.gz')\n",
    "outcomes_1526 = pd.DataFrame(outcomes_1526)\n",
    "out_S15_26_raw=pd.concat([experiments_1526, outcomes_1526], axis = 1)"
   ]
  },
  {
   "cell_type": "markdown",
   "id": "d8d41c34",
   "metadata": {},
   "source": [
    "#### 3. Apply filter, name and store filtered datasets for S15"
   ]
  },
  {
   "cell_type": "code",
   "execution_count": 4,
   "id": "9aff71ab",
   "metadata": {},
   "outputs": [],
   "source": [
    "input_datasets_15 = [out_S15_85_raw, out_S15_45_raw, out_S15_26_raw]\n",
    "df_names_15 = [\"out_S15_85\", \"out_S15_45\", \"out_S15_26\"]\n",
    "output_folder = \"model_output_S15_clean\"\n",
    "\n",
    "# Apply filters and store results with names\n",
    "filtered_datasets_15 = {\n",
    "    name: apply_filters(df) for name, df in zip(df_names_15, input_datasets_15)\n",
    "}\n",
    "\n",
    "# Store in predefined output folder\n",
    "for name, df in filtered_datasets_15.items():\n",
    "    df.to_csv(os.path.join(output_folder, f\"{name}.txt\"), sep='\\t', index=False)"
   ]
  },
  {
   "cell_type": "markdown",
   "id": "d45bb3bd",
   "metadata": {},
   "source": [
    "#### 4. Load datasets for Weser-Elbe focus area S33"
   ]
  },
  {
   "cell_type": "code",
   "execution_count": 7,
   "id": "fe3c5849",
   "metadata": {},
   "outputs": [],
   "source": [
    "# RCP 8.5 dataset\n",
    "experiments_3385, outcomes_3385=load_results('model_output_S33_raw/S33_rcp85_full_factorial.tar.gz')\n",
    "outcomes_3385 = pd.DataFrame(outcomes_3385)\n",
    "out_S33_85_raw=pd.concat([experiments_3385, outcomes_3385], axis = 1)\n",
    "# RCP 4.5 dataset\n",
    "experiments_3345, outcomes_3345=load_results('model_output_S33_raw/S33_rcp45_full_factorial.tar.gz')\n",
    "outcomes_3345 = pd.DataFrame(outcomes_3345)\n",
    "out_S33_45_raw=pd.concat([experiments_3345, outcomes_3345], axis = 1)\n",
    "# RCP 2.6 dataset\n",
    "experiments_3326, outcomes_3326=load_results('model_output_S33_raw/S33_rcp26_full_factorial.tar.gz')\n",
    "outcomes_3326 = pd.DataFrame(outcomes_3326)\n",
    "out_S33_26_raw=pd.concat([experiments_3326, outcomes_3326], axis = 1)"
   ]
  },
  {
   "cell_type": "markdown",
   "id": "67fc1da9",
   "metadata": {},
   "source": [
    "#### 3. Apply filter, name and store filtered datasets for S33"
   ]
  },
  {
   "cell_type": "code",
   "execution_count": 9,
   "id": "a3d1d9ca",
   "metadata": {},
   "outputs": [],
   "source": [
    "input_datasets_33 = [out_S33_85_raw, out_S33_45_raw, out_S33_26_raw]\n",
    "df_names_33 = [\"out_S33_85\", \"out_S33_45\", \"out_S33_26\"]\n",
    "output_folder = \"model_output_S33_clean\"\n",
    "\n",
    "# Apply filters and store results with names\n",
    "filtered_datasets_33 = {\n",
    "    name: apply_filters(df) for name, df in zip(df_names_33, input_datasets_33)\n",
    "}\n",
    "# Store in predefined output folder\n",
    "for name, df in filtered_datasets_33.items():\n",
    "    df.to_csv(os.path.join(output_folder, f\"{name}.txt\"), sep='\\t', index=False)"
   ]
  },
  {
   "cell_type": "code",
   "execution_count": null,
   "id": "8592b57e",
   "metadata": {},
   "outputs": [],
   "source": []
  }
 ],
 "metadata": {
  "kernelspec": {
   "display_name": "Python 3 (ipykernel)",
   "language": "python",
   "name": "python3"
  },
  "language_info": {
   "codemirror_mode": {
    "name": "ipython",
    "version": 3
   },
   "file_extension": ".py",
   "mimetype": "text/x-python",
   "name": "python",
   "nbconvert_exporter": "python",
   "pygments_lexer": "ipython3",
   "version": "3.11.5"
  }
 },
 "nbformat": 4,
 "nbformat_minor": 5
}
